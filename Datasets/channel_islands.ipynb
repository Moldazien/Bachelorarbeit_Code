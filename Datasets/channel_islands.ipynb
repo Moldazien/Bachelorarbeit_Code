{
  "nbformat": 4,
  "nbformat_minor": 0,
  "metadata": {
    "colab": {
      "name": "channel_islands.ipynb",
      "provenance": [],
      "collapsed_sections": []
    },
    "kernelspec": {
      "name": "python3",
      "display_name": "Python 3"
    },
    "language_info": {
      "name": "python"
    }
  },
  "cells": [
    {
      "cell_type": "markdown",
      "source": [
        "**verarbeitung von annotationen für channelislands camera traps datensatz**"
      ],
      "metadata": {
        "id": "ABFKDQhI2g_0"
      }
    },
    {
      "cell_type": "markdown",
      "source": [
        "herunterladen des datensatzes"
      ],
      "metadata": {
        "id": "K-Y2BkFb5bAa"
      }
    },
    {
      "cell_type": "code",
      "execution_count": null,
      "metadata": {
        "id": "I2HL9uIM1HnF"
      },
      "outputs": [],
      "source": [
        "%%shell\n",
        "\n",
        "wget -O azcopy_linux.tar.gz https://aka.ms/downloadazcopy-v10-linux\n",
        "tar -xvzf azcopy_linux.tar.gz --wildcards */azcopy --strip 1\n",
        "rm azcopy_linux.tar.gz\n",
        "chmod u+x azcopy"
      ]
    },
    {
      "cell_type": "code",
      "source": [
        "!mkdir dataset"
      ],
      "metadata": {
        "id": "aHJVDaxM1oGb"
      },
      "execution_count": null,
      "outputs": []
    },
    {
      "cell_type": "code",
      "source": [
        "!./azcopy cp \"https://lilablobssc.blob.core.windows.net/channel-islands-camera-traps/images\" \"/content/dataset\" --recursive"
      ],
      "metadata": {
        "id": "oQTWek3b1mXV"
      },
      "execution_count": null,
      "outputs": []
    },
    {
      "cell_type": "markdown",
      "source": [
        "vorraussetzungen für weiteres verarbeiten installieren und initialisiern"
      ],
      "metadata": {
        "id": "ULUFCFnW2l9q"
      }
    },
    {
      "cell_type": "code",
      "source": [
        "from google.colab import drive\n",
        "drive.mount('/content/gdrive')"
      ],
      "metadata": {
        "colab": {
          "base_uri": "https://localhost:8080/"
        },
        "id": "0f-4Yl8b2o19",
        "outputId": "1befd084-9513-4226-bc11-9cba089917c3"
      },
      "execution_count": null,
      "outputs": [
        {
          "output_type": "stream",
          "name": "stdout",
          "text": [
            "Mounted at /content/gdrive\n"
          ]
        }
      ]
    },
    {
      "cell_type": "code",
      "source": [
        "!git clone https://github.com/cocodataset/cocoapi\n",
        "\n",
        "!cd /content/cocoapi/PythonAPI && make"
      ],
      "metadata": {
        "id": "sgOr-T4j2qaL"
      },
      "execution_count": null,
      "outputs": []
    },
    {
      "cell_type": "code",
      "source": [
        " !pip install timm\n",
        " \n",
        " !git clone https://github.com/Moldazien/BA.git"
      ],
      "metadata": {
        "id": "w2IdgIL22uiE"
      },
      "execution_count": null,
      "outputs": []
    },
    {
      "cell_type": "code",
      "source": [
        "import os\n",
        "os.chdir('/content/BA')"
      ],
      "metadata": {
        "id": "bxlYsQKT2waW"
      },
      "execution_count": null,
      "outputs": []
    },
    {
      "cell_type": "code",
      "source": [
        "import os\n",
        "import sys\n",
        "import argparse\n",
        "import cv2\n",
        "import random\n",
        "import colorsys\n",
        "import requests\n",
        "from io import BytesIO\n",
        "\n",
        "import skimage.io\n",
        "from skimage.measure import find_contours\n",
        "import matplotlib.pyplot as plt\n",
        "from matplotlib.patches import Polygon\n",
        "import torch\n",
        "import torch.nn as nn\n",
        "import torchvision\n",
        "from torchvision import transforms as pth_transforms\n",
        "import numpy as np\n",
        "from PIL import Image\n",
        "\n",
        "import utils\n",
        "import vision_transformer as vits\n",
        "\n",
        "from pycocotools.coco import COCO"
      ],
      "metadata": {
        "id": "A2j4TtQi20p2"
      },
      "execution_count": null,
      "outputs": []
    },
    {
      "cell_type": "code",
      "source": [
        "dataset_path  = '/content/dataset'\n",
        "annotations = '/content/gdrive/MyDrive/Datasets/channelisland/annotations/channel_islands_camera_traps.json' #originale annotationsdatei"
      ],
      "metadata": {
        "id": "7u-ZH4O32x-B"
      },
      "execution_count": null,
      "outputs": []
    },
    {
      "cell_type": "markdown",
      "source": [
        "datensatz auf gewünschte klassen zuschneiden + leere bilder entfernen"
      ],
      "metadata": {
        "id": "0XM52tkV5tpD"
      }
    },
    {
      "cell_type": "code",
      "source": [
        "coco = COCO(annotations)"
      ],
      "metadata": {
        "id": "YkUh9j_o3ptI"
      },
      "execution_count": null,
      "outputs": []
    },
    {
      "cell_type": "code",
      "source": [
        "categories = coco.getCatIds()\n",
        "categories = coco.loadCats(categories)"
      ],
      "metadata": {
        "id": "6FkvFgo34B_C"
      },
      "execution_count": null,
      "outputs": []
    },
    {
      "cell_type": "code",
      "source": [
        "cat_mapping = {'fox':1, 'skunk':2, 'rodent':3, 'bird':4} #künftiges mapping für die 4 klassen "
      ],
      "metadata": {
        "id": "IkFGSVhCB8Ig"
      },
      "execution_count": null,
      "outputs": []
    },
    {
      "cell_type": "code",
      "source": [
        "annotations = coco.getAnnIds()\n",
        "annotations = coco.loadAnns(annotations)"
      ],
      "metadata": {
        "id": "VVLcRcfs4xIb"
      },
      "execution_count": null,
      "outputs": []
    },
    {
      "cell_type": "code",
      "source": [
        "images = coco.getImgIds()\n",
        "images = coco.loadImgs(images)"
      ],
      "metadata": {
        "id": "K_-CSefz5nNT"
      },
      "execution_count": null,
      "outputs": []
    },
    {
      "cell_type": "code",
      "source": [
        "counter = 0\n",
        "\n",
        "single_images = []\n",
        "\n",
        "for img in images:\n",
        "  img_id = img['id']\n",
        "\n",
        "  ann_ids = coco.getAnnIds([img_id])\n",
        "\n",
        "  dec = False\n",
        "\n",
        "  if len(ann_ids) > 1:\n",
        "\n",
        "    anns = coco.loadAnns(ann_ids)\n",
        "    temp = anns[0]['category_id']\n",
        "    for ann in anns:\n",
        "      if ann['category_id'] != temp:\n",
        "        dec = True\n",
        "\n",
        "  if dec:\n",
        "    counter = counter + 1\n",
        "  \n",
        "  if not dec:\n",
        "    single_images.append(img)\n",
        "\n",
        "print(counter)\n",
        "print(len(single_images))\n",
        "print(len(images))"
      ],
      "metadata": {
        "id": "cg71kSX_CIYP"
      },
      "execution_count": null,
      "outputs": []
    },
    {
      "cell_type": "code",
      "source": [
        "new_annotations = []\n",
        "new_images = []\n",
        "new_categories = []"
      ],
      "metadata": {
        "id": "jnHLdOHm6FCh"
      },
      "execution_count": null,
      "outputs": []
    },
    {
      "cell_type": "code",
      "source": [
        "for img in single_images:\n",
        "  img_id = img['id']\n",
        "\n",
        "  ann_ids = coco.getAnnIds([img_id])\n",
        "  anns = coco.loadAnns(ann_ids)\n",
        "\n",
        "  #print(len(ann_ids))\n",
        "\n",
        "  append = False\n",
        "  for ann in anns:\n",
        "    if ann['category_id'] in [2,3,4,5]:\n",
        "      append = True\n",
        "      #ann['category_id'] = ann['category_id']\n",
        "      new_annotations.append(ann)\n",
        "\n",
        "  if append:\n",
        "    new_images.append(img)\n",
        "  "
      ],
      "metadata": {
        "id": "kkiMKXod6MPZ"
      },
      "execution_count": null,
      "outputs": []
    },
    {
      "cell_type": "code",
      "source": [
        "for ann in new_annotations:\n",
        "  cat_id = ann['category_id']\n",
        "  cate = coco.loadCats([cat_id])[0]\n",
        "  ann['category_id'] = cat_mapping[cate['name']]"
      ],
      "metadata": {
        "id": "PypcoVC5IrK8"
      },
      "execution_count": null,
      "outputs": []
    },
    {
      "cell_type": "code",
      "source": [
        "for cat in categories:\n",
        "  if cat['id'] in [2,3,4,5]:\n",
        "    #cat['id'] = cat['id']#cat_mapping[cat['name']]\n",
        "    new_categories.append(cat)"
      ],
      "metadata": {
        "id": "70GHeWbl-EDd"
      },
      "execution_count": null,
      "outputs": []
    },
    {
      "cell_type": "code",
      "source": [
        "for cat in new_categories:\n",
        "  cat['id'] = cat_mapping[cat['name']]"
      ],
      "metadata": {
        "id": "3FCg3EgYHZwJ"
      },
      "execution_count": null,
      "outputs": []
    },
    {
      "cell_type": "code",
      "source": [
        "import json \n",
        "\n",
        "output_file = '/Speicherpfad' #annotationsdatei speichern\n",
        "\n",
        "with open(output_file, 'w') as file:\n",
        "  json.dump({'images': new_images,'categories': new_categories , 'annotations': new_annotations}, file, indent = 4, sort_keys=False)"
      ],
      "metadata": {
        "id": "juJ2jbDfID6C"
      },
      "execution_count": null,
      "outputs": []
    },
    {
      "cell_type": "code",
      "source": [
        "drive.flush_and_unmount()"
      ],
      "metadata": {
        "id": "xhe2hGxiKyTc"
      },
      "execution_count": null,
      "outputs": []
    },
    {
      "cell_type": "markdown",
      "source": [
        "zufallsbilder aus bestimmten klassen laden und speichern (u.a. für beispielbilder in arbeit)\n",
        "\n",
        "\n",
        "\n"
      ],
      "metadata": {
        "id": "4XH8gF_Sr17F"
      }
    },
    {
      "cell_type": "code",
      "source": [
        "annotation = 'ANNOTATONS_PFAD'\n",
        "coco = COCO(annotation)"
      ],
      "metadata": {
        "id": "-DlRCYYnsESl"
      },
      "execution_count": null,
      "outputs": []
    },
    {
      "cell_type": "code",
      "source": [
        "image_ids = coco.getImgIds()"
      ],
      "metadata": {
        "id": "LpKPtEfbsIWd"
      },
      "execution_count": null,
      "outputs": []
    },
    {
      "cell_type": "code",
      "source": [
        "import random\n",
        "random.shuffle(image_ids)"
      ],
      "metadata": {
        "id": "xjRPVZgOs0UU"
      },
      "execution_count": null,
      "outputs": []
    },
    {
      "cell_type": "code",
      "source": [
        "new_images = []\n",
        "\n",
        "counter1 = 3\n",
        "counter2 = 3\n",
        "counter3 = 3\n",
        "counter4 = 3\n",
        "\n",
        "for id in image_ids:\n",
        "  image = coco.loadImgs([id])\n",
        "\n",
        "  ann_ids = coco.getAnnIds([id])\n",
        "  anns = coco.loadAnns(ann_ids)\n",
        "\n",
        "  if anns[0]['category_id'] == 1 and counter1 > 0:\n",
        "    new_images.append(image[0])\n",
        "    counter1 = counter1 - 1\n",
        "  if anns[0]['category_id'] == 2 and counter2 > 0:\n",
        "    new_images.append(image[0])\n",
        "    counter2 = counter2 - 1\n",
        "  if anns[0]['category_id'] == 3 and counter3 > 0:\n",
        "    new_images.append(image[0])\n",
        "    counter3 = counter3 - 1\n",
        "  if anns[0]['category_id'] == 4 and counter4 > 0:\n",
        "    new_images.append(image[0])\n",
        "    counter4 = counter4 - 1"
      ],
      "metadata": {
        "id": "d36j9tGZtPQW"
      },
      "execution_count": null,
      "outputs": []
    },
    {
      "cell_type": "code",
      "source": [
        "!cd /content/gdrive/MyDrive && mkdir ManualAnn"
      ],
      "metadata": {
        "id": "23lQeurVx-mp"
      },
      "execution_count": null,
      "outputs": []
    },
    {
      "cell_type": "code",
      "source": [
        "#heruntergeladene bilder kopieren und in googledrive speichern\n",
        "\n",
        "import shutil\n",
        "import json\n",
        "\n",
        "path_to_direc = '/content/dataset/images'\n",
        "other_path = '/content/gdrive/MyDrive/ManualAnn'\n",
        "file_type = '.jpg'\n",
        "\n",
        "counter = 0\n",
        "\n",
        "for item in new_images:\n",
        "\n",
        "  oldpath = path_to_direc + '/' + item['file_name']\n",
        "\n",
        "  newpath = other_path + '/' + str(counter) + 'I.jpg'\n",
        "\n",
        "  counter = counter + 1 \n",
        "\n",
        "  shutil.copyfile(oldpath, newpath)"
      ],
      "metadata": {
        "id": "pKWQtljzulD7"
      },
      "execution_count": null,
      "outputs": []
    },
    {
      "cell_type": "code",
      "source": [
        "drive.flush_and_unmount()"
      ],
      "metadata": {
        "id": "-5HSuPriwkLN"
      },
      "execution_count": null,
      "outputs": []
    },
    {
      "cell_type": "markdown",
      "source": [
        "**erstellen einer gesamten annotationsdatei aus ergebnissen des Megadetectors und der originalen annotationsdatei**"
      ],
      "metadata": {
        "id": "XHiznm6FDIYo"
      }
    },
    {
      "cell_type": "code",
      "source": [
        "from google.colab import drive\n",
        "drive.mount('/content/gdrive')"
      ],
      "metadata": {
        "colab": {
          "base_uri": "https://localhost:8080/"
        },
        "id": "BMVWiH4dDd6f",
        "outputId": "497d39e3-cda0-4eb0-c290-6bb928787e6f"
      },
      "execution_count": null,
      "outputs": [
        {
          "output_type": "stream",
          "name": "stdout",
          "text": [
            "Mounted at /content/gdrive\n"
          ]
        }
      ]
    },
    {
      "cell_type": "code",
      "source": [
        "!git clone https://github.com/cocodataset/cocoapi\n",
        "\n",
        "!cd /content/cocoapi/PythonAPI && make"
      ],
      "metadata": {
        "id": "VBvKEu21Dcat"
      },
      "execution_count": null,
      "outputs": []
    },
    {
      "cell_type": "code",
      "source": [
        "import os\n",
        "import sys\n",
        "import argparse\n",
        "import cv2\n",
        "import random\n",
        "import colorsys\n",
        "import requests\n",
        "from io import BytesIO\n",
        "\n",
        "import skimage.io\n",
        "#from skimage.measure import find_contours\n",
        "import matplotlib.pyplot as plt\n",
        "from matplotlib.patches import Polygon\n",
        "import torch\n",
        "import torch.nn as nn\n",
        "import torchvision\n",
        "from torchvision import transforms as pth_transforms\n",
        "import numpy as np\n",
        "from PIL import Image\n",
        "\n",
        "from pycocotools.coco import COCO\n",
        "import json"
      ],
      "metadata": {
        "id": "RGz3OQs7DkI9"
      },
      "execution_count": null,
      "outputs": []
    },
    {
      "cell_type": "code",
      "source": [
        "ann_file = 'ORIGINAL_ANNOTATIONEN'\n",
        "\n",
        "megadetector_path = 'MEGADETECTOR_OUTPUT_FILE'\n",
        "\n",
        "coco = COCO(ann_file)\n",
        "\n",
        "with open(megadetector_path) as file:\n",
        "  m_detections = json.load(file)"
      ],
      "metadata": {
        "id": "Lp19mUu6DpEA"
      },
      "execution_count": null,
      "outputs": []
    },
    {
      "cell_type": "code",
      "source": [
        "org_images = coco.getImgIds()\n",
        "org_images = coco.loadImgs(org_images)"
      ],
      "metadata": {
        "id": "GBjbqyqfFkeo"
      },
      "execution_count": null,
      "outputs": []
    },
    {
      "cell_type": "code",
      "source": [
        "image_detections = m_detections['images']\n",
        "\n",
        "threshold = 0.9 #gewünschter threshold für confidence der megadetector detektionen (hier noch für iNat19)\n",
        "\n",
        "org_images = coco.getImgIds()\n",
        "org_images = coco.loadImgs(org_images)\n",
        "\n",
        "categories = coco.getCatIds()\n",
        "categories = coco.loadCats(categories)\n",
        "\n",
        "org_anns = coco.getAnnIds(coco.getImgIds())\n",
        "org_anns = coco.loadAnns(org_anns)\n",
        "\n",
        "images = []\n",
        "annotations = []\n",
        "\n",
        "id_counter = 0\n",
        "\n",
        "counter = 0\n",
        "for img in org_images:\n",
        "  counter = counter + 1\n",
        "  height = img['height']\n",
        "  width = img['width']\n",
        "  img_id = img['id']\n",
        "  file_name = img['file_name']\n",
        "\n",
        "  detect = [det for det in image_detections if det['file'].split('/images/')[1] == file_name]\n",
        "  detect = [det['detections'] for det in detect]\n",
        "  img_added = False\n",
        "  if len(detect) >= 1:\n",
        "    for item in detect:\n",
        "      if len(item) >= 1:\n",
        "        if item[0]['category'] == '1' and item[0]['conf'] >= threshold:\n",
        "          bbox = item[0]['bbox']\n",
        "          bbox = [bbox[0]*width, bbox[1]*height, bbox[2]*width, bbox[3]*height]\n",
        "          score = item[0]['conf']\n",
        "          area = area = bbox[2]*bbox[3]\n",
        "          ann_ids = coco.getAnnIds([img_id])\n",
        "          anns = coco.loadAnns(ann_ids)\n",
        "          if len(anns) >= 1:\n",
        "            if img_added == False:\n",
        "              images.append(img)\n",
        "              img_added = True\n",
        "\n",
        "            category_id = anns[0]['category_id']\n",
        "            #segmentation = anns[0]['segmentation']\n",
        "            image_id = img_id\n",
        "            id = id_counter\n",
        "            id_counter = id_counter + 1\n",
        "\n",
        "            annotation = {}\n",
        "            annotation['image_id'] = image_id\n",
        "            annotation['bbox'] = bbox\n",
        "            annotation['area'] = area\n",
        "            annotation['category_id'] = category_id\n",
        "            annotation['score'] = score\n",
        "            annotation['id'] = id\n",
        "\n",
        "            annotations.append(annotation)"
      ],
      "metadata": {
        "id": "aHFhzVgWDPGI"
      },
      "execution_count": null,
      "outputs": []
    },
    {
      "cell_type": "code",
      "source": [
        "#speichern der generierten Daten\n",
        "\n",
        "import json \n",
        "\n",
        "output_file = '/PATH_TO_NEW_JSON'\n",
        "\n",
        "with open(output_file, 'w') as file:\n",
        "  json.dump({'images': images,'categories': categories , 'annotations': annotations}, file, indent = 4, sort_keys=False)"
      ],
      "metadata": {
        "id": "y24Tjy73z29T"
      },
      "execution_count": null,
      "outputs": []
    },
    {
      "cell_type": "code",
      "source": [
        "drive.flush_and_unmount()"
      ],
      "metadata": {
        "id": "-Fe_iowE0J6H"
      },
      "execution_count": null,
      "outputs": []
    }
  ]
}