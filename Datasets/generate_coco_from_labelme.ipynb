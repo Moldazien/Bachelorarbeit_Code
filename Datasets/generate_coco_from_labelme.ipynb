{
  "nbformat": 4,
  "nbformat_minor": 0,
  "metadata": {
    "colab": {
      "name": "generate_coco_from_labelme.ipynb",
      "provenance": [],
      "collapsed_sections": []
    },
    "kernelspec": {
      "name": "python3",
      "display_name": "Python 3"
    },
    "language_info": {
      "name": "python"
    }
  },
  "cells": [
    {
      "cell_type": "markdown",
      "source": [
        "**notebook um aus mit labelme manuell annotierten masken eine coco-annotationsdatei zu erstellen**"
      ],
      "metadata": {
        "id": "XPbBsOOFAAnl"
      }
    },
    {
      "cell_type": "code",
      "metadata": {
        "id": "AcL2UexWpuEX"
      },
      "source": [
        "%%shell\n",
        "pip install pyqt5 \n",
        "pip install labelme"
      ],
      "execution_count": null,
      "outputs": []
    },
    {
      "cell_type": "code",
      "metadata": {
        "id": "UE3mwsYSp4Iv"
      },
      "source": [
        "!git clone https://github.com/Tony607/labelme2coco.git"
      ],
      "execution_count": null,
      "outputs": []
    },
    {
      "cell_type": "code",
      "metadata": {
        "id": "8g9beLJkqMv2"
      },
      "source": [
        "!cp /content/labelme2coco/labelme2coco.py /content"
      ],
      "execution_count": null,
      "outputs": []
    },
    {
      "cell_type": "code",
      "metadata": {
        "colab": {
          "base_uri": "https://localhost:8080/"
        },
        "id": "eZCxTUn1p-2c",
        "outputId": "ddb72187-a89e-4458-9bac-f7ada92e2026"
      },
      "source": [
        "from google.colab import drive\n",
        "drive.mount('/content/gdrive')"
      ],
      "execution_count": null,
      "outputs": [
        {
          "output_type": "stream",
          "name": "stdout",
          "text": [
            "Mounted at /content/gdrive\n"
          ]
        }
      ]
    },
    {
      "cell_type": "code",
      "metadata": {
        "id": "1YHm6JcZqapS"
      },
      "source": [
        "!python labelme2coco.py PATH_TO_SAVE"
      ],
      "execution_count": null,
      "outputs": []
    }
  ]
}