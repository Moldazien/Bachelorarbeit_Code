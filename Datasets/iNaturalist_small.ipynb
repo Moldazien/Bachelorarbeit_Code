{
  "nbformat": 4,
  "nbformat_minor": 0,
  "metadata": {
    "colab": {
      "name": "iNaturalist_small.ipynb",
      "provenance": [],
      "collapsed_sections": []
    },
    "kernelspec": {
      "name": "python3",
      "display_name": "Python 3"
    },
    "language_info": {
      "name": "python"
    }
  },
  "cells": [
    {
      "cell_type": "markdown",
      "source": [
        "**notebook um iNaturalist 2019 Datensatz herunter zu laden, und nur tierbilder in googledrive zu speichern und diesen mit Megadetector bounding boxes zu versehen**"
      ],
      "metadata": {
        "id": "xmZZPA5596qh"
      }
    },
    {
      "cell_type": "code",
      "metadata": {
        "id": "WMoUM60V2aT3"
      },
      "source": [
        "#!wget https://ml-inat-competition-datasets.s3.amazonaws.com/2021/train_mini.tar.gz"
      ],
      "execution_count": null,
      "outputs": []
    },
    {
      "cell_type": "code",
      "metadata": {
        "id": "YJ4eiDRgBtou"
      },
      "source": [
        "!git clone https://github.com/cocodataset/cocoapi\n",
        "\n",
        "!cd /content/cocoapi/PythonAPI && make"
      ],
      "execution_count": null,
      "outputs": []
    },
    {
      "cell_type": "code",
      "metadata": {
        "id": "HpHd4P6p-Ppx"
      },
      "source": [
        "import os\n",
        "import shutil"
      ],
      "execution_count": null,
      "outputs": []
    },
    {
      "cell_type": "code",
      "source": [
        "from google.colab import drive\n",
        "drive.mount('/content/gdrive')"
      ],
      "metadata": {
        "id": "95UM3h5l3_RP"
      },
      "execution_count": null,
      "outputs": []
    },
    {
      "cell_type": "code",
      "source": [
        "!wget https://ml-inat-competition-datasets.s3.amazonaws.com/2019/train2019.json.tar.gz\n",
        "\n",
        "!wget https://ml-inat-competition-datasets.s3.amazonaws.com/2019/val2019.json.tar.gz\n",
        "\n",
        "!wget https://ml-inat-competition-datasets.s3.amazonaws.com/2019/categories.json.tar.gz"
      ],
      "metadata": {
        "id": "Ka_OOVRA4ogH"
      },
      "execution_count": null,
      "outputs": []
    },
    {
      "cell_type": "code",
      "metadata": {
        "id": "ck7_jEw7BSia"
      },
      "source": [
        "!tar -xvzf /content/categories.json.tar.gz\n",
        "!tar -xvzf /content/train2019.json.tar.gz\n",
        "!tar -xvzf /content/val2019.json.tar.gz"
      ],
      "execution_count": null,
      "outputs": []
    },
    {
      "cell_type": "code",
      "source": [
        "import json\n",
        "\n",
        "with open('/content/categories.json') as json_file:\n",
        "    categories = json.load(json_file)\n",
        "\n",
        "with open('/content/train2019.json') as json_file:\n",
        "    training = json.load(json_file)\n",
        "\n",
        "with open('/content/val2019.json') as json_file:\n",
        "    validation = json.load(json_file)"
      ],
      "metadata": {
        "id": "XDMQ6V6146Ib"
      },
      "execution_count": null,
      "outputs": []
    },
    {
      "cell_type": "code",
      "source": [
        "train_info = training['info']\n",
        "val_info = validation['info']\n",
        "\n",
        "train_images = training['images']\n",
        "val_images = validation['images']\n",
        "\n",
        "train_annotations = training['annotations']\n",
        "val_annotations = validation['annotations']\n",
        "\n"
      ],
      "metadata": {
        "id": "eR05-MaP46LO"
      },
      "execution_count": null,
      "outputs": []
    },
    {
      "cell_type": "code",
      "source": [
        "train_dataset = {'info': train_info, 'images':train_images, 'annotations':train_annotations, 'categories':categories}\n",
        "val_dataset = {'info': val_info, 'images':val_images, 'annotations':val_annotations, 'categories':categories}"
      ],
      "metadata": {
        "id": "RrK33rio6QKy"
      },
      "execution_count": null,
      "outputs": []
    },
    {
      "cell_type": "code",
      "source": [
        "with open('/content/train2019.json', 'w') as file:\n",
        "  json.dump(train_dataset, file, indent = 4, sort_keys=False)\n",
        "\n",
        "with open('/content/val2019.json', 'w') as file:\n",
        "  json.dump(val_dataset, file, indent = 4, sort_keys=False)"
      ],
      "metadata": {
        "id": "wnJgrxGh7BFo"
      },
      "execution_count": null,
      "outputs": []
    },
    {
      "cell_type": "code",
      "metadata": {
        "id": "2xeAWnOsBYYn"
      },
      "source": [
        "import json\n",
        "from pycocotools.coco import COCO\n",
        "\n",
        "train_file = '/content/train2019.json'\n",
        "val_file = '/content/val2019.json'\n",
        "\n",
        "train_coco = COCO(train_file)\n",
        "val_coco = COCO(val_file)"
      ],
      "execution_count": null,
      "outputs": []
    },
    {
      "cell_type": "code",
      "metadata": {
        "id": "1r-bNnvXB1q6"
      },
      "source": [
        "train_ids = train_coco.getImgIds()\n",
        "val_ids = val_coco.getImgIds()"
      ],
      "execution_count": null,
      "outputs": []
    },
    {
      "cell_type": "code",
      "source": [
        "delete_files = []\n",
        "\n",
        "counter = 0\n",
        "\n",
        "for ids in train_ids:\n",
        "  #print(counter)\n",
        "  counter = counter + 1\n",
        "  ann_id = train_coco.getAnnIds([ids])\n",
        "  ann = train_coco.loadAnns(ann_id)\n",
        "  cat = ann[0]['category_id']\n",
        "  if train_coco.loadCats([cat])[0]['class'] not in ['Aves', 'Reptilia', 'Amphibia']: #sollen auch amphibien drinnen sein?\n",
        "    img = train_coco.loadImgs([ids])\n",
        "    path = img[0]['file_name']\n",
        "    delete_files.append(path)\n"
      ],
      "metadata": {
        "id": "DabQ4P5a-z_p"
      },
      "execution_count": null,
      "outputs": []
    },
    {
      "cell_type": "markdown",
      "source": [
        "entfernen aller annotationen+bilder die keine tiere enthalten"
      ],
      "metadata": {
        "id": "eHUBbMUp-KcE"
      }
    },
    {
      "cell_type": "code",
      "source": [
        "for ids in val_ids:\n",
        "  counter = counter + 1\n",
        "  ann_id = val_coco.getAnnIds([ids])\n",
        "  ann = val_coco.loadAnns(ann_id)\n",
        "  cat = ann[0]['category_id']\n",
        "  if val_coco.loadCats([cat])[0]['class'] not in ['Aves', 'Reptilia', 'Amphibia']: #sollen auch \n",
        "    img = val_coco.loadImgs([ids])\n",
        "    path = img[0]['file_name']\n",
        "    delete_files.append(path)"
      ],
      "metadata": {
        "id": "3VtyL6DBAeGt"
      },
      "execution_count": null,
      "outputs": []
    },
    {
      "cell_type": "code",
      "source": [
        "with open('delete.json', 'w') as file:\n",
        "  json.dump(delete_files, file, indent = 4, sort_keys=False)  #speichern einer liste aller bilder die entfernt werden sollen"
      ],
      "metadata": {
        "id": "sKtHnKFDA-Pl"
      },
      "execution_count": null,
      "outputs": []
    },
    {
      "cell_type": "code",
      "source": [
        "!tar -xvf /content/gdrive/MyDrive/Datasets/iNaturalist2019/zip/train_val2019.tar.gz --directory /content"
      ],
      "metadata": {
        "id": "ozI2CtxjBwoo"
      },
      "execution_count": null,
      "outputs": []
    },
    {
      "cell_type": "code",
      "source": [
        "path_to_dataset = '/content/' \n",
        "\n",
        "for entry in delete_files:\n",
        "  delete_path = path_to_dataset + entry\n",
        "  os.remove(delete_path)\n",
        "  #shutil.rmtree(delete_path)\n",
        "  #print(delete_path)"
      ],
      "metadata": {
        "id": "h0ANHpwYCoS1"
      },
      "execution_count": null,
      "outputs": []
    },
    {
      "cell_type": "code",
      "source": [
        "!rm -r /content/train_val2019/Plants"
      ],
      "metadata": {
        "id": "3GS8_Sgtwhnd"
      },
      "execution_count": null,
      "outputs": []
    },
    {
      "cell_type": "code",
      "source": [
        "!tar -cfvz /content/gdrive/MyDrive/Datasets/iNaturalist2019/zip/train_val2019.tar.gz /content/train_val2019"
      ],
      "metadata": {
        "colab": {
          "base_uri": "https://localhost:8080/"
        },
        "id": "s_6OhXJos4ni",
        "outputId": "10850a71-ba5d-4fdb-ec86-db1dcbc08fc7"
      },
      "execution_count": null,
      "outputs": [
        {
          "output_type": "stream",
          "name": "stdout",
          "text": [
            "tar: Removing leading `/' from member names\n",
            "^C\n"
          ]
        }
      ]
    },
    {
      "cell_type": "code",
      "source": [
        "cp -R /content/train_val2019 /content/gdrive/MyDrive/Datasets/iNaturalist2019/images"
      ],
      "metadata": {
        "id": "ulriZjvcq2fH"
      },
      "execution_count": null,
      "outputs": []
    },
    {
      "cell_type": "code",
      "source": [
        "drive.flush_and_unmount()"
      ],
      "metadata": {
        "id": "Z3bFYVZmCwCe"
      },
      "execution_count": null,
      "outputs": []
    },
    {
      "cell_type": "markdown",
      "source": [
        "megadetector iNaturalist Datensatz erstellen und annotationsdatei speichern"
      ],
      "metadata": {
        "id": "HfgJQeVUN6H0"
      }
    },
    {
      "cell_type": "code",
      "source": [
        "train_path = '/content/gdrive/MyDrive/Datasets/iNaturalist2019/annotations/train2019.json'\n",
        "test_path = '/content/gdrive/MyDrive/Datasets/iNaturalist2019/annotations/val2019.json'\n",
        "megadetector_path = '/content/gdrive/MyDrive/Datasets/iNaturalist2019/other/megadetector/output_mgdetector.json'"
      ],
      "metadata": {
        "id": "ayZHcIvmN9MS"
      },
      "execution_count": null,
      "outputs": []
    },
    {
      "cell_type": "code",
      "source": [
        "import json\n",
        "from pycocotools.coco import COCO\n",
        "\n",
        "train = COCO(train_path)\n",
        "test = COCO(test_path)\n",
        "\n",
        "with open(megadetector_path) as json_file:\n",
        "    megadetector = json.load(json_file)\n",
        "\n",
        "meg_img = megadetector['images']\n",
        "#print(len(meg_img))"
      ],
      "metadata": {
        "id": "d6dZqDsyORDb"
      },
      "execution_count": null,
      "outputs": []
    },
    {
      "cell_type": "code",
      "source": [
        "trn_ids = train.getImgIds()\n",
        "tst_ids = test.getImgIds()"
      ],
      "metadata": {
        "id": "Sne41ZYhPAC6"
      },
      "execution_count": null,
      "outputs": []
    },
    {
      "cell_type": "code",
      "source": [
        "images = []\n",
        "annotations = []\n",
        "categories = train.loadCats(train.getCatIds())\n",
        "\n",
        "threshold = 0.5\n",
        "\n",
        "counter = 0\n",
        "failure = 0\n",
        "\n",
        "for id in tst_ids:\n",
        "  counter = counter + 1\n",
        "\n",
        "  ann_id = test.getAnnIds([id])\n",
        "  ann = test.loadAnns(ann_id)[0]\n",
        "\n",
        "  cat = test.loadCats([ann['category_id']])\n",
        "\n",
        "  if cat[0]['class'] in ['Amphibia', 'Reptilia', 'Aves']:\n",
        "    img = test.loadImgs([id])[0]\n",
        "    height = img['height']\n",
        "    width = img['width']\n",
        "\n",
        "    path = img['file_name']\n",
        "\n",
        "    bbox_ann = [ann for ann in meg_img if ann['file'].split('/images/')[1] == path][0]\n",
        "\n",
        "    if 'failure' not in bbox_ann.keys():\n",
        "\n",
        "      if len(bbox_ann['detections']) > 0:\n",
        "\n",
        "        detection = bbox_ann['detections'][0]\n",
        "\n",
        "        conf = detection['conf']\n",
        "        ct = detection['category']\n",
        "\n",
        "        if ct == '1' and conf >= threshold:\n",
        "\n",
        "          images.append(img)\n",
        "          \n",
        "          bbox = detection['bbox']\n",
        "          ann['bbox'] = [bbox[0]*width, bbox[1]*height, bbox[2]*width, bbox[3]*height]\n",
        "\n",
        "          annotations.append(ann)\n",
        "\n",
        "    else:\n",
        "      failure = failure + 1\n"
      ],
      "metadata": {
        "id": "ExMRTasER4d9"
      },
      "execution_count": null,
      "outputs": []
    },
    {
      "cell_type": "markdown",
      "source": [
        "# code for val_set"
      ],
      "metadata": {
        "id": "KkQVqgKi2yd_"
      }
    },
    {
      "cell_type": "code",
      "source": [
        "images = []\n",
        "annotations = []\n",
        "categories = train.loadCats(train.getCatIds())\n",
        "\n",
        "threshold = 0.5\n",
        "\n",
        "counter = 0\n",
        "failure = 0\n",
        "\n",
        "for id in tst_ids:\n",
        "  counter = counter + 1\n",
        "\n",
        "  ann_id = test.getAnnIds([id])\n",
        "  ann = test.loadAnns(ann_id)[0]\n",
        "\n",
        "  cat = test.loadCats([ann['category_id']])\n",
        "\n",
        "  if cat[0]['class'] in ['Amphibia', 'Reptilia', 'Aves']:\n",
        "    img = test.loadImgs([id])[0]\n",
        "    height = img['height']\n",
        "    width = img['width']\n",
        "\n",
        "    path = img['file_name']\n",
        "\n",
        "    bbox_ann = [ann for ann in meg_img if ann['file'].split('/images/')[1] == path][0]\n",
        "\n",
        "    images.append(img)\n",
        "    bbox = [0,0,1,1]\n",
        "\n",
        "    if 'failure' not in bbox_ann.keys():\n",
        "\n",
        "      if len(bbox_ann['detections']) > 0:\n",
        "\n",
        "        detection = bbox_ann['detections'][0]\n",
        "\n",
        "        conf = detection['conf']\n",
        "        ct = detection['category']\n",
        "\n",
        "        if ct == '1' and conf >= threshold:\n",
        "          \n",
        "          bbox = detection['bbox']\n",
        "    else:\n",
        "      failure = failure + 1\n",
        "\n",
        "    \n",
        "    ann['bbox'] = [bbox[0]*width, bbox[1]*height, bbox[2]*width, bbox[3]*height]\n",
        "    annotations.append(ann)\n",
        "\n",
        "print(failure)"
      ],
      "metadata": {
        "id": "SlkBbYlP2wGq"
      },
      "execution_count": null,
      "outputs": []
    },
    {
      "cell_type": "code",
      "source": [
        "categories = [cat for cat in categories if cat['class'] in ['Amphibia', 'Reptilia', 'Aves']] #bestimmen der gewollten kategorien"
      ],
      "metadata": {
        "id": "NddxzIm4aBgC"
      },
      "execution_count": null,
      "outputs": []
    },
    {
      "cell_type": "code",
      "source": [
        "with open('/content/gdrive/MyDrive/Datasets/iNaturalist2019/annotations/all_meg_test.json', 'w') as file: #speichern der erstellten annotationen in json file\n",
        "  json.dump({'images':images, 'annotations':annotations, 'categories':categories}, file, indent = 4, sort_keys=False)"
      ],
      "metadata": {
        "id": "kAj1cdZraToO"
      },
      "execution_count": null,
      "outputs": []
    },
    {
      "cell_type": "code",
      "source": [
        "drive.flush_and_unmount()"
      ],
      "metadata": {
        "id": "2X8AKxrCagbe"
      },
      "execution_count": null,
      "outputs": []
    }
  ]
}