{
  "nbformat": 4,
  "nbformat_minor": 0,
  "metadata": {
    "colab": {
      "name": "mae_channelislands.ipynb",
      "provenance": [],
      "collapsed_sections": []
    },
    "kernelspec": {
      "name": "python3",
      "display_name": "Python 3"
    },
    "language_info": {
      "name": "python"
    },
    "accelerator": "GPU"
  },
  "cells": [
    {
      "cell_type": "markdown",
      "source": [
        "**notebook um mit MAE auf Channelislands datensatz zu arbeiten und zu evaluieren**"
      ],
      "metadata": {
        "id": "dHT10bZCICsW"
      }
    },
    {
      "cell_type": "code",
      "execution_count": null,
      "metadata": {
        "colab": {
          "base_uri": "https://localhost:8080/"
        },
        "id": "XNMRLlwPMzpr",
        "outputId": "df22ed4d-3e1e-4a44-b033-47ced2c0d3cc"
      },
      "outputs": [
        {
          "output_type": "stream",
          "name": "stdout",
          "text": [
            "Mounted at /content/gdrive\n"
          ]
        }
      ],
      "source": [
        "from google.colab import drive\n",
        "drive.mount('/content/gdrive')"
      ]
    },
    {
      "cell_type": "code",
      "source": [
        "!wget -P /content https://dl.fbaipublicfiles.com/mae/pretrain/mae_pretrain_vit_base.pth #https://dl.fbaipublicfiles.com/mae/pretrain/mae_pretrain_vit_large.pth"
      ],
      "metadata": {
        "id": "KUqjnicJvhYf"
      },
      "execution_count": null,
      "outputs": []
    },
    {
      "cell_type": "code",
      "source": [
        "!pip install submitit"
      ],
      "metadata": {
        "id": "10qSNU3Ww39F"
      },
      "execution_count": null,
      "outputs": []
    },
    {
      "cell_type": "code",
      "source": [
        "!git clone https://github.com/cocodataset/cocoapi\n",
        "\n",
        "!cd /content/cocoapi/PythonAPI && make"
      ],
      "metadata": {
        "id": "fTt8Wp6nwZn8"
      },
      "execution_count": null,
      "outputs": []
    },
    {
      "cell_type": "code",
      "source": [
        "!rm -r /content/mae"
      ],
      "metadata": {
        "id": "WgX41hlfjTdZ"
      },
      "execution_count": null,
      "outputs": []
    },
    {
      "cell_type": "code",
      "source": [
        "import sys\n",
        "import os\n",
        "import requests\n",
        "\n",
        "import torch\n",
        "import numpy as np\n",
        "\n",
        "import matplotlib.pyplot as plt\n",
        "from PIL import Image\n",
        "\n",
        "# check whether run in Colab\n",
        "if 'google.colab' in sys.modules:\n",
        "    print('Running in Colab.')\n",
        "    !pip3 install timm==0.4.5  # 0.3.2 does not work in Colab\n",
        "    !git clone https://github.com/Moldazien/mae.git\n",
        "    sys.path.append('./mae')\n",
        "else:\n",
        "    sys.path.append('..')\n",
        "import models_mae"
      ],
      "metadata": {
        "id": "0UoftGiidczd"
      },
      "execution_count": null,
      "outputs": []
    },
    {
      "cell_type": "code",
      "source": [
        "import os\n",
        "import sys\n",
        "import argparse\n",
        "import cv2\n",
        "import random\n",
        "import colorsys\n",
        "import requests\n",
        "from io import BytesIO\n",
        "\n",
        "import skimage.io\n",
        "from skimage.measure import find_contours\n",
        "import matplotlib.pyplot as plt\n",
        "from matplotlib.patches import Polygon\n",
        "import torch\n",
        "import torch.nn as nn\n",
        "import torchvision\n",
        "from torchvision import transforms as pth_transforms\n",
        "import numpy as np\n",
        "from PIL import Image\n",
        "\n",
        "\n",
        "from pycocotools.coco import COCO"
      ],
      "metadata": {
        "id": "i2jnwfWxwd5m"
      },
      "execution_count": null,
      "outputs": []
    },
    {
      "cell_type": "markdown",
      "source": [
        "**training**"
      ],
      "metadata": {
        "id": "eTj0bByqHvae"
      }
    },
    {
      "cell_type": "code",
      "source": [
        "!python /content/mae/main_finetune.py \\\n",
        "    --accum_iter 4 \\\n",
        "    --batch_size 64 \\\n",
        "    --model vit_base_patch16 \\\n",
        "    --finetune /content/mae_pretrain_vit_base.pth \\\n",
        "    --epochs 15 \\\n",
        "    --blr 5e-4 --layer_decay 0.65 \\\n",
        "    --weight_decay 0.05 --drop_path 0.1 --mixup 0.8 --cutmix 1.0 --reprob 0.25 \\\n",
        "    --dist_eval --data_path /content \\\n",
        "    --nb_classes=5 \\\n",
        "    --num_workers=2 \\\n",
        "    --warmup_epochs=1 \\\n",
        "    --output_dir /content/gdrive/MyDrive/models/channelislands/jobdirec \\"
      ],
      "metadata": {
        "id": "Kd6KcNfLbedj"
      },
      "execution_count": null,
      "outputs": []
    },
    {
      "cell_type": "markdown",
      "source": [
        "**Evaluation**"
      ],
      "metadata": {
        "id": "b2VsUsOFVoiT"
      }
    },
    {
      "cell_type": "code",
      "source": [
        "!python /content/mae/main_finetune.py --eval --resume /MODEL.pth --model vit_base_patch16 --batch_size 1 --data_path /content \\\n",
        "   --nb_classes=5 --num_workers=1"
      ],
      "metadata": {
        "id": "VMGFjQTY0t1k"
      },
      "execution_count": null,
      "outputs": []
    },
    {
      "cell_type": "markdown",
      "source": [
        "es existiert kein extra code um ergebnisse zu speichern, da nur eine prediktion falsch ist auf den testdatensatz. das kann man gut von hand machen"
      ],
      "metadata": {
        "id": "QilrMSDuIN6Z"
      }
    },
    {
      "cell_type": "code",
      "source": [
        "drive.flush_and_unmount()"
      ],
      "metadata": {
        "id": "0H59ztXqe1ai"
      },
      "execution_count": null,
      "outputs": []
    }
  ]
}