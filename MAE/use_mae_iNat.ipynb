{
  "nbformat": 4,
  "nbformat_minor": 0,
  "metadata": {
    "colab": {
      "name": "use_mae.ipynb",
      "provenance": [],
      "collapsed_sections": []
    },
    "kernelspec": {
      "name": "python3",
      "display_name": "Python 3"
    },
    "language_info": {
      "name": "python"
    },
    "accelerator": "GPU"
  },
  "cells": [
    {
      "cell_type": "markdown",
      "source": [
        "**notebook um mit MAE auf iNat19 Datensatz zu trainieren und testen. Code in https://github.com/Moldazien/mae.git muss von CICT-Datensatz leicht zu iNat19 Datensatz angepasst werden**"
      ],
      "metadata": {
        "id": "bahNMMHAzX0B"
      }
    },
    {
      "cell_type": "code",
      "execution_count": null,
      "metadata": {
        "colab": {
          "base_uri": "https://localhost:8080/"
        },
        "id": "XNMRLlwPMzpr",
        "outputId": "b4a0178a-89e2-4674-b27c-6b44daedeccb"
      },
      "outputs": [
        {
          "output_type": "stream",
          "name": "stdout",
          "text": [
            "Mounted at /content/gdrive\n"
          ]
        }
      ],
      "source": [
        "from google.colab import drive\n",
        "drive.mount('/content/gdrive')"
      ]
    },
    {
      "cell_type": "code",
      "source": [
        "!wget -P /content https://dl.fbaipublicfiles.com/mae/pretrain/mae_pretrain_vit_base.pth #download von modelgewichten"
      ],
      "metadata": {
        "id": "KUqjnicJvhYf"
      },
      "execution_count": null,
      "outputs": []
    },
    {
      "cell_type": "code",
      "source": [
        "!mkdir /content/dataset\n",
        "!cp -R PATH_TO_IMAGES /content/dataset/images"
      ],
      "metadata": {
        "id": "Q2vmDDTAkkR8"
      },
      "execution_count": null,
      "outputs": []
    },
    {
      "cell_type": "code",
      "source": [
        "!pip install submitit"
      ],
      "metadata": {
        "id": "10qSNU3Ww39F"
      },
      "execution_count": null,
      "outputs": []
    },
    {
      "cell_type": "code",
      "source": [
        "!git clone https://github.com/cocodataset/cocoapi\n",
        "\n",
        "!cd /content/cocoapi/PythonAPI && make"
      ],
      "metadata": {
        "id": "fTt8Wp6nwZn8"
      },
      "execution_count": null,
      "outputs": []
    },
    {
      "cell_type": "code",
      "source": [
        "#vorraussetzungen für MAE installieren\n",
        "\n",
        "import sys\n",
        "import os\n",
        "import requests\n",
        "\n",
        "import torch\n",
        "import numpy as np\n",
        "\n",
        "import matplotlib.pyplot as plt\n",
        "from PIL import Image\n",
        "\n",
        "if 'google.colab' in sys.modules:\n",
        "    print('Running in Colab.')\n",
        "    !pip3 install timm==0.4.5  # 0.3.2 does not work in Colab\n",
        "    !git clone https://github.com/Moldazien/mae.git\n",
        "    sys.path.append('./mae')\n",
        "else:\n",
        "    sys.path.append('..')\n",
        "import models_mae"
      ],
      "metadata": {
        "id": "0UoftGiidczd"
      },
      "execution_count": null,
      "outputs": []
    },
    {
      "cell_type": "code",
      "source": [
        "import os\n",
        "import sys\n",
        "import argparse\n",
        "import cv2\n",
        "import random\n",
        "import colorsys\n",
        "import requests\n",
        "from io import BytesIO\n",
        "\n",
        "import skimage.io\n",
        "from skimage.measure import find_contours\n",
        "import matplotlib.pyplot as plt\n",
        "from matplotlib.patches import Polygon\n",
        "import torch\n",
        "import torch.nn as nn\n",
        "import torchvision\n",
        "from torchvision import transforms as pth_transforms\n",
        "import numpy as np\n",
        "from PIL import Image\n",
        "\n",
        "from pycocotools.coco import COCO"
      ],
      "metadata": {
        "id": "i2jnwfWxwd5m"
      },
      "execution_count": null,
      "outputs": []
    },
    {
      "cell_type": "markdown",
      "source": [
        "# actual training\n",
        "\n",
        "**ausgabe der Ergebnisse auf Testdatensatz am ende einsehbar**"
      ],
      "metadata": {
        "id": "b2VsUsOFVoiT"
      }
    },
    {
      "cell_type": "code",
      "source": [
        "!python /content/mae/main_finetune.py \\\n",
        "    --accum_iter 4 \\\n",
        "    --batch_size 64 \\\n",
        "    --model vit_base_patch16 \\\n",
        "    --finetune /content/mae_pretrain_vit_base.pth \\\n",
        "    --epochs 20 \\\n",
        "    --blr 5e-4 --layer_decay 0.65 \\\n",
        "    --weight_decay 0.05 --drop_path 0.1 --mixup 0.8 --cutmix 1.0 --reprob 0.25 \\\n",
        "    --dist_eval --data_path /content \\\n",
        "    --nb_classes=176 \\\n",
        "    --num_workers=2 \\\n",
        "    --warmup_epochs=2 \\\n",
        "    --output_dir /content/gdrive/MyDrive/models/mae/Jobdirec_mae \\"
      ],
      "metadata": {
        "id": "Kd6KcNfLbedj"
      },
      "execution_count": null,
      "outputs": []
    }
  ]
}
