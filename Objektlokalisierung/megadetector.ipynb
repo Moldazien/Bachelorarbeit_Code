{
  "cells": [
    {
      "cell_type": "markdown",
      "source": [
        "**notebook um megadetector auf einer liste von bildern anzuwenden**"
      ],
      "metadata": {
        "id": "hoiP6L9B9bcs"
      }
    },
    {
      "cell_type": "code",
      "execution_count": null,
      "metadata": {
        "id": "5N7ErNjrUuri"
      },
      "outputs": [],
      "source": [
        "pip uninstall tensorflow"
      ]
    },
    {
      "cell_type": "code",
      "execution_count": null,
      "metadata": {
        "id": "fZt2PyOrUwaF"
      },
      "outputs": [],
      "source": [
        "pip install psutil humanfriendly jsonpickle tensorflow-gpu==1.13.1 #1.14.0"
      ]
    },
    {
      "cell_type": "markdown",
      "source": [
        "notebook einmal neu starten!"
      ],
      "metadata": {
        "id": "j-vSU76a9YhJ"
      }
    },
    {
      "cell_type": "code",
      "execution_count": null,
      "metadata": {
        "id": "W4PKLQ2BUoNX"
      },
      "outputs": [],
      "source": [
        "from google.colab import drive\n",
        "drive.mount('/content/gdrive')"
      ]
    },
    {
      "cell_type": "code",
      "execution_count": null,
      "metadata": {
        "id": "dvif3FDtUyLb"
      },
      "outputs": [],
      "source": [
        "!wget -O /content/megadetector_v4_1_0.pb https://lilablobssc.blob.core.windows.net/models/camera_traps/megadetector/md_v4.1.0/md_v4.1.0.pb"
      ]
    },
    {
      "cell_type": "code",
      "execution_count": null,
      "metadata": {
        "id": "ydLNVd3BU0wW"
      },
      "outputs": [],
      "source": [
        "!git clone https://github.com/microsoft/CameraTraps\n",
        "!git clone https://github.com/microsoft/ai4eutils"
      ]
    },
    {
      "cell_type": "code",
      "execution_count": null,
      "metadata": {
        "id": "dsFFFakmU2Aq"
      },
      "outputs": [],
      "source": [
        "!cp /content/CameraTraps/detection/run_tf_detector_batch.py .\n",
        "!cp /content/CameraTraps/visualization/visualize_detector_output.py ."
      ]
    },
    {
      "cell_type": "code",
      "execution_count": null,
      "metadata": {
        "id": "YH3accyqU3ah"
      },
      "outputs": [],
      "source": [
        "import os\n",
        "os.environ['PYTHONPATH'] += \":/content/ai4eutils\"\n",
        "os.environ['PYTHONPATH'] += \":/content/CameraTraps\"\n",
        "\n",
        "!echo \"PYTHONPATH: $PYTHONPATH\""
      ]
    },
    {
      "cell_type": "markdown",
      "source": [
        "erstellen einer liste aller bilder, auf welchen der Megadetector ausgeführt werden soll"
      ],
      "metadata": {
        "id": "ZsiOAyhO9Q5V"
      }
    },
    {
      "cell_type": "code",
      "execution_count": null,
      "metadata": {
        "colab": {
          "base_uri": "https://localhost:8080/"
        },
        "id": "7-wk4D0jU_cV",
        "outputId": "9ff62de5-fe0c-4e04-c387-ded236278308"
      },
      "outputs": [
        {
          "name": "stdout",
          "output_type": "stream",
          "text": [
            "['Amphibians', 'Birds', 'Reptiles']\n"
          ]
        }
      ],
      "source": [
        "\n",
        "import os\n",
        "\n",
        "file_list = []\n",
        "\n",
        "path = '/content/gdrive/MyDrive/Datasets/iNaturalist2019/images/train_val2019' #pfad zu enthaltenen bildern\n",
        "\n",
        "directories = os.listdir(path)\n",
        "\n",
        "print(directories)\n",
        "\n",
        "for dir in directories:\n",
        "  subdirec = os.listdir(path + '/' + dir)\n",
        "  for direc in subdirec:\n",
        "    names = os.listdir(path + '/' + dir + '/' + direc)\n",
        "    for name in names:\n",
        "     file_list.append(path + '/' + dir + '/' + direc + '/' + name)\n"
      ]
    },
    {
      "cell_type": "code",
      "execution_count": null,
      "metadata": {
        "id": "OUW9oEHGX57x"
      },
      "outputs": [],
      "source": [
        "import json\n",
        "\n",
        "with open('/content/gdrive/MyDrive/Datasets/iNaturalist2019/other/files.json', 'w') as file:\n",
        "  json.dump(file_list, file, indent = 4, sort_keys=False)"
      ]
    },
    {
      "cell_type": "code",
      "execution_count": null,
      "metadata": {
        "id": "Z50uOikoZIXV"
      },
      "outputs": [],
      "source": [
        "images_dir = '/content/gdrive/MyDrive/Datasets/iNaturalist2019/other/files.json'\n",
        "\n",
        "output_file_path = '/content/gdrive/MyDrive/Datasets/iNaturalist2019/other/megadetector/output_mgdetector.json'"
      ]
    },
    {
      "cell_type": "code",
      "execution_count": null,
      "metadata": {
        "id": "j8UVWR3zZC2V"
      },
      "outputs": [],
      "source": [
        "!python run_tf_detector_batch.py /content/megadetector_v4_1_0.pb \"$images_dir\" \"$output_file_path\" --recursive \\\n",
        "  --checkpoint_frequency 2500 \\\n",
        "  --threshold 0.5 \\\n",
        "  --resume_from_checkpoint /content/gdrive/MyDrive/Datasets/iNaturalist2019/other/megadetector/checkpoint_20211210173808.json"
      ]
    },
    {
      "cell_type": "code",
      "execution_count": null,
      "metadata": {
        "colab": {
          "background_save": true
        },
        "id": "lvObrF4zYUXo"
      },
      "outputs": [],
      "source": [
        "drive.flush_and_unmount()"
      ]
    }
  ],
  "metadata": {
    "accelerator": "GPU",
    "colab": {
      "collapsed_sections": [],
      "name": "megadetector.ipynb",
      "provenance": []
    },
    "kernelspec": {
      "display_name": "Python 3",
      "name": "python3"
    },
    "language_info": {
      "name": "python"
    }
  },
  "nbformat": 4,
  "nbformat_minor": 0
}