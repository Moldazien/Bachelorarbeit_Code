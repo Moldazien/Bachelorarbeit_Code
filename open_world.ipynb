{
  "cells": [
    {
      "cell_type": "markdown",
      "source": [
        "**Code um Open World Klassifikation auszuführen und über mehrere Klassen zu testen**"
      ],
      "metadata": {
        "id": "XqQI-8ihvlu_"
      }
    },
    {
      "cell_type": "code",
      "execution_count": null,
      "metadata": {
        "colab": {
          "base_uri": "https://localhost:8080/"
        },
        "id": "KgL915d4uAab",
        "outputId": "56f05790-8349-4233-b3cc-3f2248dd2fe6"
      },
      "outputs": [
        {
          "output_type": "stream",
          "name": "stdout",
          "text": [
            "Mounted at /content/gdrive\n"
          ]
        }
      ],
      "source": [
        "from google.colab import drive\n",
        "drive.mount('/content/gdrive')"
      ]
    },
    {
      "cell_type": "code",
      "execution_count": null,
      "metadata": {
        "id": "9HUz2IqPtfLz"
      },
      "outputs": [],
      "source": [
        "!git clone https://github.com/cocodataset/cocoapi\n",
        "\n",
        "!cd /content/cocoapi/PythonAPI && make"
      ]
    },
    {
      "cell_type": "code",
      "execution_count": null,
      "metadata": {
        "id": "jbTFt2YihL9B"
      },
      "outputs": [],
      "source": [
        " !pip install timm\n",
        " \n",
        " !git clone https://github.com/Moldazien/BA.git"
      ]
    },
    {
      "cell_type": "code",
      "execution_count": null,
      "metadata": {
        "id": "jyfQxEwgMg8R"
      },
      "outputs": [],
      "source": [
        "import os\n",
        "os.chdir('/content/BA')"
      ]
    },
    {
      "cell_type": "code",
      "execution_count": null,
      "metadata": {
        "id": "UFWM2uT369E_"
      },
      "outputs": [],
      "source": [
        "#kopieren der featurevektoren aus google drive, um später längere ladezeiten beim öffnen der dateien aus googledrive zu vermeiden\n",
        "\n",
        "!mkdir /content/dataset\n",
        "!cp -R /content/gdrive/MyDrive/Datasets/iNaturalist2019/features /content/dataset/features"
      ]
    },
    {
      "cell_type": "code",
      "execution_count": null,
      "metadata": {
        "id": "4No_m7wkJtI2"
      },
      "outputs": [],
      "source": [
        "import os\n",
        "import sys\n",
        "import argparse\n",
        "import cv2\n",
        "import random\n",
        "import colorsys\n",
        "import requests\n",
        "from io import BytesIO\n",
        "\n",
        "import skimage.io\n",
        "from skimage.measure import find_contours\n",
        "import matplotlib.pyplot as plt\n",
        "from matplotlib.patches import Polygon\n",
        "import torch\n",
        "import torch.nn as nn\n",
        "import torchvision\n",
        "from torchvision import transforms as pth_transforms\n",
        "import numpy as np\n",
        "from PIL import Image\n",
        "\n",
        "import utils\n",
        "import vision_transformer as vits\n",
        "\n",
        "from pycocotools.coco import COCO"
      ]
    },
    {
      "cell_type": "code",
      "execution_count": null,
      "metadata": {
        "id": "1mXt9tcRQbyP"
      },
      "outputs": [],
      "source": [
        "#datensatzklasse um merkmalsvektoren und groundtruth sinnvoll laden zu können\n",
        "\n",
        "import os\n",
        "from torchvision.io import read_image\n",
        "from torch.utils.data import Dataset, DataLoader\n",
        "\n",
        "class Seg_Dataset(Dataset):\n",
        "  def __init__(self, annotations_file, dataset_dir, taxonomy):  #taxonomy must be: kingdom phylum class order family genus name\n",
        "    self.annotations_file = annotations_file\n",
        "    self.coco = COCO(annotations_file)  #for fast reading\n",
        "    \n",
        "    self.dataset = dataset_dir\n",
        "    self.img_ids = self.coco.getImgIds()\n",
        "\n",
        "    def mapping(taxonomy):\n",
        "      mapping = {}\n",
        "\n",
        "      cat_ids = self.coco.getCatIds()\n",
        "      categories = self.coco.loadCats(cat_ids)\n",
        "\n",
        "      by_tax_cat = list(set([cat[taxonomy] for cat in categories]))\n",
        "      by_tax_cat.sort()\n",
        "      numb_cats = len(by_tax_cat)\n",
        "\n",
        "      for i in range(numb_cats):\n",
        "        for cat in categories:\n",
        "          if cat[taxonomy] == by_tax_cat[i]:\n",
        "            mapping[cat['id']] = i + 1\n",
        "      return mapping\n",
        "      \n",
        "    self.cat_mapping = mapping(taxonomy)\n",
        "\n",
        "  def __len__(self):\n",
        "    return len(self.img_ids)\n",
        "\n",
        "\n",
        "  def __getitem__(self, idx):\n",
        "    img_id = self.img_ids[idx]\n",
        "\n",
        "    img = self.coco.loadImgs(img_id)\n",
        "\n",
        "    ann_ids = self.coco.getAnnIds(img[0]['id'])\n",
        "    anns = self.coco.loadAnns(ann_ids)\n",
        "\n",
        "    fileN = img[0]['file_name'].split('/')\n",
        "\n",
        "    classN = fileN[1]\n",
        "    direcN = fileN[2]\n",
        "    imgN = fileN[3].split('.')[0]\n",
        "\n",
        "    feature_path = self.dataset + '/features/' + classN + '/' + direcN + '/' + imgN + '_feature.pt'\n",
        "    features = torch.load(feature_path, map_location=torch.device('cpu'))\n",
        "\n",
        "    ground_truth = 0\n",
        "\n",
        "    if len(anns) > 0:\n",
        "      ground_truth = self.cat_mapping[anns[0]['category_id']]\n",
        "\n",
        "\n",
        "    return ground_truth, features"
      ]
    },
    {
      "cell_type": "code",
      "execution_count": null,
      "metadata": {
        "id": "kgmHg8XqVoPV"
      },
      "outputs": [],
      "source": [
        "#erstellen der trainings und testdatensätzen\n",
        "\n",
        "dataset_path = '/content/dataset'\n",
        "\n",
        "trainset = Seg_Dataset('/content/gdrive/MyDrive/Datasets/iNaturalist2019/annotations/meg_train.json', dataset_path, 'order') #class order family genus name\n",
        "testset = Seg_Dataset('/content/gdrive/MyDrive/Datasets/iNaturalist2019/annotations/meg_test.json', dataset_path, 'order') "
      ]
    },
    {
      "cell_type": "code",
      "execution_count": null,
      "metadata": {
        "id": "VDno7KwGVx98"
      },
      "outputs": [],
      "source": [
        "import random\n",
        "random.seed(7)\n",
        "\n",
        "train_ids = np.arange(0,trainset.__len__(),1)\n",
        "test_ids = np.arange(0,testset.__len__(),1)"
      ]
    },
    {
      "cell_type": "code",
      "execution_count": null,
      "metadata": {
        "id": "hHazNry9W-N4"
      },
      "outputs": [],
      "source": [
        "def getVectors(trainset, remove_index):\n",
        "  X = []\n",
        "  Y = []\n",
        "\n",
        "  otherX = []\n",
        "  otherY = [] \n",
        "\n",
        "  train_ids = np.arange(0,trainset.__len__(),1)\n",
        "\n",
        "  for i in train_ids:\n",
        "    gt, features = trainset.__getitem__(i)\n",
        "\n",
        "    features = features.reshape(-1)\n",
        "\n",
        "    npfeatures = np.asarray(features)\n",
        "\n",
        "    if gt == remove_index:\n",
        "      otherX.append(npfeatures)\n",
        "      otherY.append(999)\n",
        "    else:\n",
        "      X.append(npfeatures)\n",
        "      Y.append(gt)\n",
        "\n",
        "  X_arr = np.asarray(X)\n",
        "  Y_arr = np.asarray(Y) \n",
        "\n",
        "  Xo_arr = np.asarray(otherX)\n",
        "  Yo_arr = np.asarray(otherY)\n",
        "\n",
        "  return X_arr, Y_arr, Xo_arr, Yo_arr"
      ]
    },
    {
      "cell_type": "code",
      "execution_count": null,
      "metadata": {
        "id": "h_HSqVQ54bAT"
      },
      "outputs": [],
      "source": [
        "from sklearn.neighbors import KNeighborsClassifier as kNN\n",
        "\n",
        "def fitPredictor(X, Y, n_neighbors = 40):\n",
        "  clf = kNN(n_neighbors)\n",
        "  clf.fit(X, Y)\n",
        "  return clf"
      ]
    },
    {
      "cell_type": "code",
      "execution_count": null,
      "metadata": {
        "id": "0J5cLn2hhC1A"
      },
      "outputs": [],
      "source": [
        "from sklearn.neighbors import LocalOutlierFactor\n",
        "\n",
        "def fitOutlierPredictor(X, Y, n_neighbors = 40):\n",
        "  clf = LocalOutlierFactor(n_neighbors, novelty=True, contamination = 0.26)\n",
        "  clf.fit(X,Y)\n",
        "  return clf"
      ]
    },
    {
      "cell_type": "code",
      "execution_count": null,
      "metadata": {
        "id": "vcZ1b9VgejeV"
      },
      "outputs": [],
      "source": [
        "def predict(testset, remove_index, predictor, threshold = 0.5):\n",
        "  Ygt = []\n",
        "  Ypred = []\n",
        "\n",
        "  test_ids = np.arange(0,testset.__len__(),1)\n",
        "\n",
        "  mapping = {}\n",
        "  class_ctr = 1\n",
        "  for i in range(4):\n",
        "    if class_ctr == remove_index:\n",
        "      class_ctr = class_ctr + 1 \n",
        "    mapping[class_ctr] = i\n",
        "    class_ctr = class_ctr + 1 \n",
        "\n",
        "\n",
        "  for i in test_ids:\n",
        "    gt, features = testset.__getitem__(i)\n",
        "\n",
        "    features = features.reshape(1, -1)\n",
        "\n",
        "    npfeatures = np.asarray(features)\n",
        "\n",
        "    if gt == remove_index:\n",
        "      Ygt.append(6) #remove_index)#15\n",
        "    else:\n",
        "      Ygt.append(gt)\n",
        "\n",
        "    pred = predictor.predict(npfeatures)\n",
        "    probs = predictor.predict_proba(npfeatures)\n",
        "\n",
        "    if probs[0, mapping[pred[0]]] < threshold:\n",
        "      Ypred.append(6)#remove_index)#15\n",
        "    else:\n",
        "      Ypred.append(pred[0])\n",
        "\n",
        "  return Ygt, Ypred"
      ]
    },
    {
      "cell_type": "code",
      "execution_count": null,
      "metadata": {
        "id": "PnCytryxhaYE"
      },
      "outputs": [],
      "source": [
        "def other_predict(testset, remove_index, predictor, outlier_predictor):\n",
        "  Ygt = []\n",
        "  Ypred = []\n",
        "\n",
        "  test_ids = np.arange(0,testset.__len__(),1)\n",
        "\n",
        "  mapping = {}\n",
        "  class_ctr = 1\n",
        "  for i in range(4):\n",
        "    if class_ctr == remove_index:\n",
        "      class_ctr = class_ctr + 1 \n",
        "    mapping[class_ctr] = i\n",
        "    class_ctr = class_ctr + 1 \n",
        "\n",
        "  for i in test_ids:\n",
        "    gt, features = testset.__getitem__(i)\n",
        "\n",
        "    features = features.reshape(1, -1)\n",
        "\n",
        "    npfeatures = np.asarray(features)\n",
        "\n",
        "    if gt == remove_index:\n",
        "      Ygt.append(6) #remove_index)#15\n",
        "    else:\n",
        "      Ygt.append(gt)\n",
        "\n",
        "    pred = predictor.predict(npfeatures)\n",
        "    outlier = outlier_predictor[pred[0]-1].predict(npfeatures)\n",
        "\n",
        "\n",
        "    if outlier == -1:\n",
        "      Ypred.append(6)#remove_index)#15\n",
        "    else:\n",
        "      Ypred.append(pred[0])\n",
        "\n",
        "  return Ygt, Ypred"
      ]
    },
    {
      "cell_type": "code",
      "execution_count": null,
      "metadata": {
        "colab": {
          "base_uri": "https://localhost:8080/"
        },
        "id": "Rr9Ya3QO5ua1",
        "outputId": "e799bbbe-a01d-4e6e-f64f-feca492ebf10"
      },
      "outputs": [
        {
          "output_type": "stream",
          "name": "stdout",
          "text": [
            "loading Complete\n",
            "54782\n",
            "54782\n",
            "1\n",
            "-----\n",
            "2\n",
            "-----\n",
            "3\n",
            "-----\n",
            "4\n",
            "-----\n",
            "5\n",
            "-----\n"
          ]
        }
      ],
      "source": [
        "X = []\n",
        "Y = []\n",
        "\n",
        "train_ids = np.arange(0,trainset.__len__(),1)\n",
        "for i in train_ids:\n",
        "  gt, features = trainset.__getitem__(i)\n",
        "  features = features.reshape(-1)\n",
        "  npfeatures = np.asarray(features)\n",
        "\n",
        "  X.append(npfeatures)\n",
        "  Y.append(gt)\n",
        "  \n",
        "print(len(X))\n",
        "print(len(Y))\n",
        "\n",
        "outlier_list = []\n",
        "X_list = []\n",
        "Y_list = []\n",
        "for i in range(5):\n",
        "  X_list.append([])\n",
        "  Y_list.append([])\n",
        "\n",
        "for i in range(5):\n",
        "  for j in range(len(Y)):\n",
        "    if i + 1 == int(Y[j]):\n",
        "      Y_list[i].append(Y[j])\n",
        "      X_list[i].append(X[j])\n"
      ]
    },
    {
      "cell_type": "code",
      "execution_count": null,
      "metadata": {
        "colab": {
          "base_uri": "https://localhost:8080/"
        },
        "id": "euIJk4YI7eKx",
        "outputId": "43d8b682-21e4-4adc-b09b-ed5cdd014172"
      },
      "outputs": [
        {
          "output_type": "stream",
          "name": "stdout",
          "text": [
            "OutlierPredictor created\n",
            "OutlierPredictor created\n",
            "OutlierPredictor created\n",
            "OutlierPredictor created\n",
            "OutlierPredictor created\n"
          ]
        }
      ],
      "source": [
        "for i in range(5):\n",
        "  outlier_predictor = fitOutlierPredictor(X_list[i], Y_list[i], 40)\n",
        "  outlier_list.append(outlier_predictor)"
      ]
    },
    {
      "cell_type": "code",
      "execution_count": null,
      "metadata": {
        "colab": {
          "base_uri": "https://localhost:8080/"
        },
        "id": "NtyEpBoXbn-b",
        "outputId": "f07414f9-1cdd-432e-da56-44777f12a0aa"
      },
      "outputs": [
        {
          "output_type": "stream",
          "name": "stdout",
          "text": [
            "0\n",
            "loading Complete\n",
            "Predictor created\n",
            "{2: 0, 3: 1, 4: 2, 5: 3}\n",
            "prediction completed\n",
            "1\n",
            "loading Complete\n",
            "Predictor created\n",
            "{1: 0, 3: 1, 4: 2, 5: 3}\n",
            "prediction completed\n",
            "2\n",
            "loading Complete\n",
            "Predictor created\n",
            "{1: 0, 2: 1, 4: 2, 5: 3}\n",
            "prediction completed\n",
            "3\n",
            "loading Complete\n",
            "Predictor created\n",
            "{1: 0, 2: 1, 3: 2, 5: 3}\n",
            "prediction completed\n",
            "4\n",
            "loading Complete\n",
            "Predictor created\n",
            "{1: 0, 2: 1, 3: 2, 4: 3}\n",
            "prediction completed\n"
          ]
        }
      ],
      "source": [
        "#open world klassifikation mit LOF Klassifikator\n",
        "\n",
        "from sklearn.metrics import confusion_matrix as confusion\n",
        "\n",
        "pred_list = []\n",
        "gt_list = []\n",
        "\n",
        "#matr_list = []\n",
        "for i in range(5):\n",
        "  print(i)\n",
        "  X, Y, _, _ = getVectors(trainset, i+1)\n",
        "  predictor = fitPredictor(X, Y, 40)\n",
        "  #outlier_predictor = fitOutlierPredictor(X, Y, 20)\n",
        "  Ygt, Ypred = other_predict(testset, i+1, predictor, outlier_list)\n",
        "\n",
        "  #print(Ygt)\n",
        "  #print(Ypred)\n",
        "\n",
        "  pred_list = pred_list + Ypred\n",
        "  gt_list = gt_list + Ygt\n",
        "\n",
        "  Ygt.append(int(i+1))\n",
        "  Ypred.append(int(i+1))\n",
        "\n",
        "  matr = confusion(Ygt, Ypred)\n",
        "  matr_list.append(matr)"
      ]
    },
    {
      "cell_type": "code",
      "execution_count": null,
      "metadata": {
        "colab": {
          "base_uri": "https://localhost:8080/"
        },
        "id": "RRy1E_6fxYBl",
        "outputId": "35f37db3-8c4b-42c6-cee9-8e0a9c11541b"
      },
      "outputs": [
        {
          "output_type": "stream",
          "name": "stdout",
          "text": [
            "0\n",
            "loading Complete\n",
            "Predictor created\n",
            "{2: 0, 3: 1, 4: 2, 5: 3}\n",
            "prediction completed\n",
            "[3, 3, 5, 4, 4, 4, 3, 3, 4, 3, 4, 6, 3, 3, 3, 5, 3, 5, 3, 3, 6, 3, 3, 6, 3, 4, 4, 6, 3, 3, 4, 4, 5, 4, 3, 3, 4, 6, 5, 3, 3, 3, 3, 4, 4, 3, 5, 4, 4, 3, 5, 5, 3, 3, 3, 4, 4, 3, 3, 6, 4, 4, 5, 4, 4, 5, 5, 3, 3, 3, 3, 4, 3, 4, 6, 3, 3, 5, 3, 5, 4, 3, 4, 4, 4, 6, 4, 3, 3, 4, 4, 3, 3, 4, 4, 4, 3, 3, 3, 3, 3, 5, 4, 4, 4, 5, 4, 4, 4, 3, 4, 5, 3, 4, 5, 3, 4, 5, 6, 5, 3, 4, 5, 4, 3, 3, 6, 3, 5, 4, 3, 2, 5, 5, 4, 4, 5, 4, 3, 4, 3, 5, 4, 4, 5, 3, 4, 3, 5, 6, 4, 4, 4, 3, 4, 5, 4, 4, 4, 4, 6, 4, 4, 4, 4, 4, 3, 5, 5, 3, 4, 3, 3, 4, 4, 5, 6, 3, 4, 3, 4, 4, 3, 5, 4, 2, 6, 3, 4, 4, 4, 5, 4, 3, 3, 4, 4, 4, 4, 5, 4, 3, 4, 5, 3, 4, 4, 3, 4, 3, 3, 4, 5, 5, 4, 4, 4, 3, 5, 3, 3, 4, 4, 4, 5, 4, 4, 4, 3, 6, 3, 4, 3, 2, 4, 3, 3, 5, 4, 4, 4, 3, 4, 3, 3, 3, 3, 3, 3, 4, 4, 3, 4, 4, 6, 4, 3, 4, 3, 4, 3, 3, 5, 4, 3, 3, 3, 3, 3, 3, 3, 4, 5, 3, 4, 6, 3, 3, 5, 4, 4, 4, 5, 3, 5, 4, 4, 6, 6, 3, 4, 3, 5, 4, 4, 5, 3, 4, 4, 4, 3, 4, 3, 4, 4, 2, 4, 3, 3, 5, 6, 6, 4, 4, 3, 5, 5, 5, 4, 5, 5, 6, 5, 5, 6, 4, 4, 5, 5, 4, 3, 3, 3, 6, 5, 4, 2, 2, 3, 4, 5, 4, 6, 4, 5, 3, 4, 4, 5, 3, 3, 5, 3, 5, 3, 6, 3, 3, 5, 2, 2, 5, 4, 4, 4, 3, 5, 3, 4, 3, 5, 2, 5, 4, 5, 3, 5, 3, 4, 4, 4, 4, 3, 4, 4, 3, 5, 4, 3, 4, 3, 4, 4, 2, 3, 4, 4, 3, 3, 2, 4, 4, 4, 4, 4, 3, 5, 4, 4, 3, 3, 6, 3, 5, 3, 3, 4, 4, 4, 6, 4, 3, 2]\n",
            "[3, 3, 5, 4, 4, 4, 3, 3, 4, 3, 4, 6, 3, 3, 3, 5, 3, 5, 3, 3, 4, 3, 3, 4, 3, 4, 6, 6, 3, 3, 4, 4, 5, 4, 3, 3, 4, 6, 5, 3, 3, 3, 3, 4, 6, 6, 5, 4, 4, 3, 5, 5, 3, 3, 3, 4, 4, 3, 3, 6, 4, 4, 5, 4, 4, 5, 5, 3, 3, 3, 3, 4, 3, 4, 6, 3, 3, 5, 3, 5, 4, 3, 4, 4, 4, 6, 6, 6, 3, 4, 4, 3, 3, 4, 4, 4, 3, 3, 3, 3, 3, 5, 4, 4, 4, 5, 6, 6, 4, 3, 4, 5, 3, 6, 5, 3, 4, 5, 4, 5, 3, 4, 5, 4, 3, 3, 6, 3, 5, 4, 3, 2, 5, 5, 4, 4, 5, 4, 3, 4, 3, 5, 4, 4, 5, 3, 4, 6, 5, 6, 4, 4, 4, 3, 4, 5, 4, 4, 4, 4, 6, 4, 4, 4, 4, 4, 3, 5, 5, 6, 4, 3, 3, 4, 4, 5, 6, 3, 6, 3, 4, 4, 3, 5, 4, 2, 6, 3, 4, 4, 4, 5, 4, 3, 3, 4, 4, 4, 4, 6, 4, 3, 4, 5, 3, 6, 4, 3, 4, 3, 3, 4, 5, 5, 4, 6, 4, 3, 5, 3, 3, 4, 4, 4, 5, 4, 6, 6, 3, 6, 3, 4, 3, 2, 4, 3, 3, 5, 4, 6, 4, 3, 4, 3, 3, 3, 3, 3, 3, 4, 4, 3, 4, 4, 6, 4, 3, 4, 3, 4, 3, 3, 5, 4, 3, 3, 3, 3, 3, 3, 3, 4, 5, 3, 4, 6, 3, 3, 5, 4, 4, 4, 5, 3, 5, 4, 4, 6, 6, 6, 4, 3, 5, 4, 4, 5, 3, 4, 4, 4, 3, 4, 3, 4, 4, 2, 4, 3, 3, 5, 4, 6, 6, 4, 3, 5, 5, 5, 4, 5, 5, 6, 5, 5, 4, 4, 4, 5, 5, 4, 3, 3, 3, 6, 5, 6, 6, 2, 3, 4, 5, 4, 6, 4, 5, 3, 4, 4, 5, 3, 3, 5, 3, 5, 3, 6, 3, 3, 5, 2, 2, 5, 4, 4, 4, 3, 5, 3, 4, 3, 6, 6, 5, 4, 5, 3, 5, 3, 4, 4, 6, 4, 6, 4, 4, 3, 5, 4, 3, 4, 3, 4, 4, 2, 3, 4, 4, 6, 3, 2, 4, 4, 4, 4, 4, 3, 5, 4, 6, 3, 3, 6, 3, 5, 3, 3, 4, 4, 4, 6, 4, 3, 2]\n",
            "1\n",
            "loading Complete\n",
            "Predictor created\n",
            "{1: 0, 3: 1, 4: 2, 5: 3}\n",
            "prediction completed\n",
            "[3, 3, 5, 4, 4, 4, 3, 3, 4, 3, 4, 1, 3, 3, 3, 5, 3, 5, 3, 3, 1, 3, 3, 1, 3, 4, 4, 1, 3, 3, 4, 4, 5, 4, 3, 3, 4, 1, 5, 3, 3, 3, 3, 4, 4, 3, 5, 4, 4, 3, 5, 5, 3, 3, 3, 4, 4, 3, 3, 1, 4, 4, 5, 4, 4, 5, 5, 3, 3, 3, 3, 4, 3, 4, 1, 3, 3, 5, 3, 5, 4, 3, 4, 4, 4, 1, 4, 3, 3, 4, 4, 3, 3, 4, 4, 4, 3, 3, 3, 3, 3, 5, 4, 4, 4, 5, 4, 4, 4, 3, 4, 5, 3, 4, 5, 3, 4, 5, 1, 5, 3, 4, 5, 4, 3, 3, 1, 3, 5, 4, 3, 6, 5, 5, 4, 4, 5, 4, 3, 4, 3, 5, 4, 4, 5, 3, 4, 3, 5, 1, 4, 4, 4, 3, 4, 5, 4, 4, 4, 4, 1, 4, 4, 4, 4, 4, 3, 5, 5, 3, 4, 3, 3, 4, 4, 5, 1, 3, 4, 3, 4, 4, 3, 5, 4, 6, 1, 3, 4, 4, 4, 5, 4, 3, 3, 4, 4, 4, 4, 5, 4, 3, 4, 5, 3, 4, 4, 3, 4, 3, 3, 4, 5, 5, 4, 4, 4, 3, 5, 3, 3, 4, 4, 4, 5, 4, 4, 4, 3, 1, 3, 4, 3, 6, 4, 3, 3, 5, 4, 4, 4, 3, 4, 3, 3, 3, 3, 3, 3, 4, 4, 3, 4, 4, 1, 4, 3, 4, 3, 4, 3, 3, 5, 4, 3, 3, 3, 3, 3, 3, 3, 4, 5, 3, 4, 1, 3, 3, 5, 4, 4, 4, 5, 3, 5, 4, 4, 1, 1, 3, 4, 3, 5, 4, 4, 5, 3, 4, 4, 4, 3, 4, 3, 4, 4, 6, 4, 3, 3, 5, 1, 1, 4, 4, 3, 5, 5, 5, 4, 5, 5, 1, 5, 5, 1, 4, 4, 5, 5, 4, 3, 3, 3, 1, 5, 4, 6, 6, 3, 4, 5, 4, 1, 4, 5, 3, 4, 4, 5, 3, 3, 5, 3, 5, 3, 1, 3, 3, 5, 6, 6, 5, 4, 4, 4, 3, 5, 3, 4, 3, 5, 6, 5, 4, 5, 3, 5, 3, 4, 4, 4, 4, 3, 4, 4, 3, 5, 4, 3, 4, 3, 4, 4, 6, 3, 4, 4, 3, 3, 6, 4, 4, 4, 4, 4, 3, 5, 4, 4, 3, 3, 1, 3, 5, 3, 3, 4, 4, 4, 1, 4, 3, 6]\n",
            "[3, 3, 5, 4, 4, 4, 3, 3, 4, 3, 4, 6, 3, 3, 6, 5, 3, 5, 3, 3, 1, 3, 3, 6, 3, 4, 6, 1, 3, 3, 4, 4, 5, 4, 3, 3, 6, 1, 5, 3, 6, 3, 3, 4, 6, 6, 5, 4, 4, 3, 5, 5, 3, 3, 3, 4, 6, 3, 3, 6, 4, 4, 5, 4, 4, 5, 5, 3, 3, 3, 3, 4, 3, 4, 6, 3, 3, 5, 3, 5, 6, 3, 4, 4, 4, 6, 6, 6, 3, 4, 4, 3, 3, 4, 4, 4, 3, 6, 3, 3, 3, 5, 4, 4, 4, 5, 6, 6, 4, 3, 6, 5, 3, 6, 5, 3, 4, 5, 6, 5, 3, 4, 5, 4, 3, 3, 6, 3, 5, 4, 3, 6, 5, 5, 4, 4, 5, 4, 3, 4, 3, 5, 4, 4, 5, 3, 4, 6, 5, 6, 4, 4, 4, 3, 4, 5, 4, 4, 4, 6, 1, 4, 4, 4, 6, 4, 3, 5, 5, 6, 4, 3, 3, 4, 4, 5, 6, 3, 6, 3, 4, 4, 3, 5, 4, 6, 6, 3, 4, 4, 4, 5, 6, 3, 3, 4, 4, 4, 4, 6, 4, 3, 4, 5, 3, 6, 4, 3, 4, 3, 3, 6, 5, 5, 4, 6, 4, 3, 5, 3, 3, 4, 4, 4, 5, 4, 6, 6, 3, 6, 3, 4, 3, 5, 6, 3, 3, 5, 4, 6, 4, 3, 4, 3, 3, 3, 3, 3, 3, 4, 4, 3, 4, 4, 6, 4, 3, 4, 3, 4, 3, 3, 5, 4, 3, 3, 3, 3, 3, 3, 3, 4, 5, 3, 4, 1, 3, 3, 5, 4, 4, 4, 5, 3, 5, 4, 4, 1, 6, 6, 4, 3, 5, 4, 4, 5, 3, 4, 4, 4, 3, 4, 3, 4, 4, 5, 6, 3, 3, 5, 6, 1, 6, 4, 3, 5, 5, 5, 4, 5, 5, 6, 5, 5, 6, 6, 4, 5, 5, 4, 3, 3, 3, 6, 5, 6, 5, 6, 3, 4, 5, 4, 6, 4, 5, 3, 4, 4, 5, 3, 3, 5, 3, 5, 3, 6, 3, 3, 5, 5, 5, 5, 4, 4, 4, 3, 5, 3, 4, 6, 6, 6, 5, 4, 5, 3, 5, 3, 4, 4, 6, 4, 6, 6, 4, 3, 5, 4, 3, 4, 3, 4, 4, 5, 3, 4, 4, 6, 3, 6, 6, 4, 4, 4, 4, 3, 5, 4, 6, 3, 6, 1, 3, 5, 6, 3, 4, 4, 4, 6, 4, 3, 6]\n",
            "2\n",
            "loading Complete\n",
            "Predictor created\n",
            "{1: 0, 2: 1, 4: 2, 5: 3}\n",
            "prediction completed\n",
            "[6, 6, 5, 4, 4, 4, 6, 6, 4, 6, 4, 1, 6, 6, 6, 5, 6, 5, 6, 6, 1, 6, 6, 1, 6, 4, 4, 1, 6, 6, 4, 4, 5, 4, 6, 6, 4, 1, 5, 6, 6, 6, 6, 4, 4, 6, 5, 4, 4, 6, 5, 5, 6, 6, 6, 4, 4, 6, 6, 1, 4, 4, 5, 4, 4, 5, 5, 6, 6, 6, 6, 4, 6, 4, 1, 6, 6, 5, 6, 5, 4, 6, 4, 4, 4, 1, 4, 6, 6, 4, 4, 6, 6, 4, 4, 4, 6, 6, 6, 6, 6, 5, 4, 4, 4, 5, 4, 4, 4, 6, 4, 5, 6, 4, 5, 6, 4, 5, 1, 5, 6, 4, 5, 4, 6, 6, 1, 6, 5, 4, 6, 2, 5, 5, 4, 4, 5, 4, 6, 4, 6, 5, 4, 4, 5, 6, 4, 6, 5, 1, 4, 4, 4, 6, 4, 5, 4, 4, 4, 4, 1, 4, 4, 4, 4, 4, 6, 5, 5, 6, 4, 6, 6, 4, 4, 5, 1, 6, 4, 6, 4, 4, 6, 5, 4, 2, 1, 6, 4, 4, 4, 5, 4, 6, 6, 4, 4, 4, 4, 5, 4, 6, 4, 5, 6, 4, 4, 6, 4, 6, 6, 4, 5, 5, 4, 4, 4, 6, 5, 6, 6, 4, 4, 4, 5, 4, 4, 4, 6, 1, 6, 4, 6, 2, 4, 6, 6, 5, 4, 4, 4, 6, 4, 6, 6, 6, 6, 6, 6, 4, 4, 6, 4, 4, 1, 4, 6, 4, 6, 4, 6, 6, 5, 4, 6, 6, 6, 6, 6, 6, 6, 4, 5, 6, 4, 1, 6, 6, 5, 4, 4, 4, 5, 6, 5, 4, 4, 1, 1, 6, 4, 6, 5, 4, 4, 5, 6, 4, 4, 4, 6, 4, 6, 4, 4, 2, 4, 6, 6, 5, 1, 1, 4, 4, 6, 5, 5, 5, 4, 5, 5, 1, 5, 5, 1, 4, 4, 5, 5, 4, 6, 6, 6, 1, 5, 4, 2, 2, 6, 4, 5, 4, 1, 4, 5, 6, 4, 4, 5, 6, 6, 5, 6, 5, 6, 1, 6, 6, 5, 2, 2, 5, 4, 4, 4, 6, 5, 6, 4, 6, 5, 2, 5, 4, 5, 6, 5, 6, 4, 4, 4, 4, 6, 4, 4, 6, 5, 4, 6, 4, 6, 4, 4, 2, 6, 4, 4, 6, 6, 2, 4, 4, 4, 4, 4, 6, 5, 4, 4, 6, 6, 1, 6, 5, 6, 6, 4, 4, 4, 1, 4, 6, 2]\n",
            "[6, 4, 5, 4, 4, 4, 6, 6, 4, 6, 4, 6, 6, 6, 6, 5, 6, 5, 6, 6, 1, 6, 6, 6, 6, 4, 6, 1, 6, 6, 4, 4, 5, 4, 6, 6, 6, 1, 5, 6, 1, 6, 6, 4, 4, 6, 5, 4, 4, 6, 5, 5, 6, 6, 6, 4, 6, 6, 4, 6, 4, 4, 5, 4, 4, 5, 5, 6, 6, 6, 6, 4, 6, 4, 1, 6, 6, 5, 6, 5, 4, 6, 4, 4, 4, 1, 4, 6, 6, 4, 4, 6, 6, 4, 4, 4, 6, 6, 4, 6, 6, 5, 4, 4, 4, 5, 4, 6, 4, 6, 6, 5, 6, 6, 5, 6, 4, 5, 6, 5, 6, 4, 5, 4, 6, 6, 1, 6, 5, 4, 6, 2, 5, 5, 4, 4, 5, 4, 6, 4, 6, 5, 4, 4, 5, 6, 4, 6, 5, 1, 4, 4, 4, 6, 4, 5, 4, 4, 4, 6, 1, 4, 4, 4, 6, 4, 6, 5, 5, 6, 4, 6, 6, 4, 4, 5, 1, 6, 6, 6, 4, 4, 6, 5, 4, 2, 1, 6, 4, 4, 4, 5, 6, 6, 6, 4, 4, 4, 4, 6, 4, 6, 4, 5, 6, 6, 4, 6, 4, 4, 6, 6, 5, 5, 4, 6, 4, 6, 5, 6, 4, 4, 4, 4, 5, 4, 6, 4, 6, 1, 6, 4, 6, 2, 6, 6, 6, 5, 4, 6, 4, 6, 4, 6, 6, 6, 4, 6, 6, 4, 4, 6, 4, 4, 1, 4, 6, 4, 6, 4, 6, 6, 5, 4, 6, 4, 6, 6, 6, 6, 6, 4, 5, 6, 4, 1, 4, 4, 5, 4, 4, 4, 5, 6, 5, 4, 4, 1, 6, 6, 4, 6, 5, 4, 4, 5, 6, 4, 4, 4, 6, 4, 6, 4, 4, 2, 6, 6, 6, 5, 6, 1, 4, 4, 6, 5, 5, 5, 4, 5, 5, 6, 5, 5, 6, 6, 4, 5, 5, 4, 6, 6, 6, 6, 5, 6, 6, 2, 6, 4, 5, 4, 6, 4, 5, 6, 4, 4, 5, 6, 6, 5, 6, 5, 6, 6, 6, 6, 5, 2, 2, 5, 4, 4, 4, 6, 5, 6, 4, 6, 6, 6, 5, 4, 5, 6, 5, 6, 4, 4, 4, 4, 6, 6, 4, 4, 5, 4, 6, 4, 6, 4, 4, 2, 6, 4, 4, 6, 4, 2, 6, 4, 4, 4, 4, 6, 5, 4, 4, 6, 6, 1, 6, 5, 6, 6, 4, 4, 4, 6, 4, 6, 2]\n",
            "3\n",
            "loading Complete\n",
            "Predictor created\n",
            "{1: 0, 2: 1, 3: 2, 5: 3}\n",
            "prediction completed\n",
            "[3, 3, 5, 6, 6, 6, 3, 3, 6, 3, 6, 1, 3, 3, 3, 5, 3, 5, 3, 3, 1, 3, 3, 1, 3, 6, 6, 1, 3, 3, 6, 6, 5, 6, 3, 3, 6, 1, 5, 3, 3, 3, 3, 6, 6, 3, 5, 6, 6, 3, 5, 5, 3, 3, 3, 6, 6, 3, 3, 1, 6, 6, 5, 6, 6, 5, 5, 3, 3, 3, 3, 6, 3, 6, 1, 3, 3, 5, 3, 5, 6, 3, 6, 6, 6, 1, 6, 3, 3, 6, 6, 3, 3, 6, 6, 6, 3, 3, 3, 3, 3, 5, 6, 6, 6, 5, 6, 6, 6, 3, 6, 5, 3, 6, 5, 3, 6, 5, 1, 5, 3, 6, 5, 6, 3, 3, 1, 3, 5, 6, 3, 2, 5, 5, 6, 6, 5, 6, 3, 6, 3, 5, 6, 6, 5, 3, 6, 3, 5, 1, 6, 6, 6, 3, 6, 5, 6, 6, 6, 6, 1, 6, 6, 6, 6, 6, 3, 5, 5, 3, 6, 3, 3, 6, 6, 5, 1, 3, 6, 3, 6, 6, 3, 5, 6, 2, 1, 3, 6, 6, 6, 5, 6, 3, 3, 6, 6, 6, 6, 5, 6, 3, 6, 5, 3, 6, 6, 3, 6, 3, 3, 6, 5, 5, 6, 6, 6, 3, 5, 3, 3, 6, 6, 6, 5, 6, 6, 6, 3, 1, 3, 6, 3, 2, 6, 3, 3, 5, 6, 6, 6, 3, 6, 3, 3, 3, 3, 3, 3, 6, 6, 3, 6, 6, 1, 6, 3, 6, 3, 6, 3, 3, 5, 6, 3, 3, 3, 3, 3, 3, 3, 6, 5, 3, 6, 1, 3, 3, 5, 6, 6, 6, 5, 3, 5, 6, 6, 1, 1, 3, 6, 3, 5, 6, 6, 5, 3, 6, 6, 6, 3, 6, 3, 6, 6, 2, 6, 3, 3, 5, 1, 1, 6, 6, 3, 5, 5, 5, 6, 5, 5, 1, 5, 5, 1, 6, 6, 5, 5, 6, 3, 3, 3, 1, 5, 6, 2, 2, 3, 6, 5, 6, 1, 6, 5, 3, 6, 6, 5, 3, 3, 5, 3, 5, 3, 1, 3, 3, 5, 2, 2, 5, 6, 6, 6, 3, 5, 3, 6, 3, 5, 2, 5, 6, 5, 3, 5, 3, 6, 6, 6, 6, 3, 6, 6, 3, 5, 6, 3, 6, 3, 6, 6, 2, 3, 6, 6, 3, 3, 2, 6, 6, 6, 6, 6, 3, 5, 6, 6, 3, 3, 1, 3, 5, 3, 3, 6, 6, 6, 1, 6, 3, 2]\n",
            "[3, 3, 5, 6, 6, 1, 3, 3, 6, 3, 6, 6, 3, 3, 6, 5, 3, 5, 3, 3, 1, 3, 3, 1, 3, 6, 1, 1, 3, 3, 1, 6, 5, 6, 3, 3, 1, 1, 5, 3, 6, 3, 3, 6, 6, 6, 5, 6, 6, 3, 5, 5, 3, 3, 3, 1, 1, 3, 3, 1, 6, 6, 5, 6, 6, 5, 5, 3, 3, 3, 3, 6, 3, 3, 6, 3, 3, 5, 3, 5, 6, 3, 6, 1, 1, 6, 3, 6, 3, 6, 1, 3, 3, 1, 6, 6, 3, 6, 3, 3, 3, 5, 1, 6, 6, 5, 6, 6, 1, 3, 6, 5, 3, 6, 5, 3, 6, 5, 1, 5, 3, 6, 5, 6, 3, 3, 1, 3, 5, 6, 3, 2, 5, 5, 6, 1, 5, 6, 3, 1, 3, 5, 1, 1, 5, 3, 1, 3, 5, 6, 1, 1, 1, 3, 6, 5, 3, 6, 1, 6, 1, 1, 1, 1, 6, 6, 3, 5, 5, 6, 1, 3, 3, 6, 1, 5, 6, 3, 6, 3, 6, 6, 3, 5, 1, 2, 6, 3, 6, 6, 6, 5, 6, 3, 3, 6, 6, 6, 6, 6, 6, 3, 1, 5, 3, 6, 1, 3, 6, 3, 3, 6, 5, 5, 6, 6, 6, 3, 5, 3, 3, 6, 6, 6, 5, 6, 6, 6, 3, 6, 3, 6, 3, 2, 6, 3, 3, 5, 6, 6, 6, 3, 1, 3, 3, 3, 3, 3, 3, 6, 1, 3, 6, 1, 6, 6, 3, 6, 3, 6, 3, 3, 5, 1, 3, 3, 3, 3, 3, 3, 3, 6, 5, 3, 6, 1, 3, 3, 5, 6, 1, 6, 5, 3, 5, 1, 6, 1, 6, 3, 1, 3, 5, 1, 1, 5, 3, 1, 6, 1, 3, 6, 3, 1, 1, 2, 6, 3, 3, 5, 1, 1, 6, 1, 3, 5, 5, 5, 6, 5, 5, 1, 5, 5, 1, 1, 1, 5, 5, 1, 3, 3, 3, 6, 5, 6, 6, 2, 3, 1, 5, 6, 1, 6, 5, 3, 1, 1, 5, 3, 3, 5, 3, 5, 3, 6, 3, 3, 5, 2, 2, 5, 1, 1, 1, 3, 5, 3, 1, 6, 6, 6, 5, 1, 5, 3, 5, 3, 6, 3, 3, 6, 6, 1, 1, 3, 5, 1, 3, 6, 3, 6, 1, 2, 3, 6, 6, 3, 3, 2, 1, 6, 1, 6, 6, 3, 5, 6, 6, 3, 3, 1, 3, 5, 6, 3, 1, 6, 6, 6, 3, 3, 2]\n",
            "4\n",
            "loading Complete\n",
            "Predictor created\n",
            "{1: 0, 2: 1, 3: 2, 4: 3}\n",
            "prediction completed\n",
            "[3, 3, 6, 4, 4, 4, 3, 3, 4, 3, 4, 1, 3, 3, 3, 6, 3, 6, 3, 3, 1, 3, 3, 1, 3, 4, 4, 1, 3, 3, 4, 4, 6, 4, 3, 3, 4, 1, 6, 3, 3, 3, 3, 4, 4, 3, 6, 4, 4, 3, 6, 6, 3, 3, 3, 4, 4, 3, 3, 1, 4, 4, 6, 4, 4, 6, 6, 3, 3, 3, 3, 4, 3, 4, 1, 3, 3, 6, 3, 6, 4, 3, 4, 4, 4, 1, 4, 3, 3, 4, 4, 3, 3, 4, 4, 4, 3, 3, 3, 3, 3, 6, 4, 4, 4, 6, 4, 4, 4, 3, 4, 6, 3, 4, 6, 3, 4, 6, 1, 6, 3, 4, 6, 4, 3, 3, 1, 3, 6, 4, 3, 2, 6, 6, 4, 4, 6, 4, 3, 4, 3, 6, 4, 4, 6, 3, 4, 3, 6, 1, 4, 4, 4, 3, 4, 6, 4, 4, 4, 4, 1, 4, 4, 4, 4, 4, 3, 6, 6, 3, 4, 3, 3, 4, 4, 6, 1, 3, 4, 3, 4, 4, 3, 6, 4, 2, 1, 3, 4, 4, 4, 6, 4, 3, 3, 4, 4, 4, 4, 6, 4, 3, 4, 6, 3, 4, 4, 3, 4, 3, 3, 4, 6, 6, 4, 4, 4, 3, 6, 3, 3, 4, 4, 4, 6, 4, 4, 4, 3, 1, 3, 4, 3, 2, 4, 3, 3, 6, 4, 4, 4, 3, 4, 3, 3, 3, 3, 3, 3, 4, 4, 3, 4, 4, 1, 4, 3, 4, 3, 4, 3, 3, 6, 4, 3, 3, 3, 3, 3, 3, 3, 4, 6, 3, 4, 1, 3, 3, 6, 4, 4, 4, 6, 3, 6, 4, 4, 1, 1, 3, 4, 3, 6, 4, 4, 6, 3, 4, 4, 4, 3, 4, 3, 4, 4, 2, 4, 3, 3, 6, 1, 1, 4, 4, 3, 6, 6, 6, 4, 6, 6, 1, 6, 6, 1, 4, 4, 6, 6, 4, 3, 3, 3, 1, 6, 4, 2, 2, 3, 4, 6, 4, 1, 4, 6, 3, 4, 4, 6, 3, 3, 6, 3, 6, 3, 1, 3, 3, 6, 2, 2, 6, 4, 4, 4, 3, 6, 3, 4, 3, 6, 2, 6, 4, 6, 3, 6, 3, 4, 4, 4, 4, 3, 4, 4, 3, 6, 4, 3, 4, 3, 4, 4, 2, 3, 4, 4, 3, 3, 2, 4, 4, 4, 4, 4, 3, 6, 4, 4, 3, 3, 1, 3, 6, 3, 3, 4, 4, 4, 1, 4, 3, 2]\n",
            "[3, 3, 6, 4, 4, 4, 3, 3, 4, 3, 4, 6, 3, 3, 6, 6, 3, 6, 3, 3, 1, 3, 3, 6, 3, 4, 6, 1, 3, 3, 4, 4, 6, 4, 3, 3, 6, 1, 6, 3, 6, 3, 3, 4, 6, 6, 6, 4, 4, 3, 6, 6, 3, 3, 3, 4, 6, 3, 3, 6, 4, 4, 6, 4, 4, 6, 6, 3, 3, 3, 3, 4, 3, 4, 6, 3, 3, 6, 3, 6, 6, 3, 4, 4, 4, 6, 6, 6, 3, 4, 4, 3, 3, 4, 4, 4, 3, 6, 3, 3, 3, 6, 4, 4, 4, 6, 6, 6, 4, 3, 6, 6, 3, 6, 6, 3, 4, 6, 6, 6, 3, 4, 6, 4, 3, 3, 6, 3, 6, 4, 3, 2, 2, 6, 4, 4, 6, 4, 3, 4, 3, 6, 4, 4, 6, 3, 4, 6, 6, 6, 4, 4, 4, 3, 4, 6, 4, 4, 4, 6, 1, 4, 4, 4, 6, 4, 3, 6, 2, 6, 4, 3, 3, 4, 4, 6, 6, 3, 6, 3, 4, 4, 3, 6, 4, 2, 6, 3, 4, 4, 4, 6, 6, 3, 3, 4, 4, 4, 4, 6, 4, 3, 4, 6, 3, 6, 4, 3, 4, 3, 3, 6, 6, 2, 4, 6, 4, 3, 6, 3, 3, 4, 4, 4, 6, 4, 6, 6, 3, 6, 3, 4, 3, 2, 6, 3, 3, 6, 4, 6, 4, 3, 4, 3, 3, 3, 3, 3, 3, 4, 4, 3, 4, 4, 6, 4, 3, 4, 3, 4, 3, 3, 6, 4, 3, 3, 3, 3, 3, 3, 3, 4, 6, 3, 4, 1, 3, 3, 6, 4, 4, 4, 6, 3, 6, 4, 4, 1, 6, 6, 4, 3, 6, 4, 4, 2, 3, 4, 4, 4, 3, 4, 3, 4, 4, 2, 6, 3, 3, 2, 6, 1, 6, 4, 3, 6, 6, 6, 4, 6, 6, 6, 6, 6, 6, 6, 4, 6, 6, 4, 3, 3, 3, 6, 6, 6, 2, 2, 3, 4, 2, 4, 6, 4, 6, 3, 4, 4, 6, 3, 3, 6, 3, 6, 3, 6, 3, 3, 6, 2, 2, 6, 4, 4, 4, 3, 6, 3, 4, 6, 6, 6, 6, 4, 2, 3, 6, 3, 4, 4, 6, 4, 6, 6, 4, 3, 6, 4, 3, 4, 3, 4, 4, 2, 3, 4, 4, 6, 3, 2, 6, 4, 4, 4, 4, 3, 6, 4, 6, 3, 6, 1, 3, 6, 6, 3, 4, 4, 4, 6, 4, 3, 2]\n"
          ]
        }
      ],
      "source": [
        "#open world klassifikation mit simpleDistKlassifikator\n",
        "\n",
        "from sklearn.metrics import confusion_matrix as confusion #for normal prediction\n",
        "\n",
        "pred_list = []\n",
        "gt_list = []\n",
        "\n",
        "matr_list = []\n",
        "for i in range(5):\n",
        "  print(i)\n",
        "  X, Y, _, _ = getVectors(trainset, i+1)\n",
        "  predictor = fitPredictor(X, Y, 250)\n",
        "  Ygt, Ypred = predict(testset, i+1, predictor, threshold = 0.98)\n",
        "\n",
        "\n",
        "  Ygt.append(int(i+1))\n",
        "  Ypred.append(int(i+1))\n",
        "\n",
        "  matr = confusion(Ygt, Ypred)\n",
        "  matr_list.append(matr)\n",
        "\n",
        "  pred_list = pred_list + Ypred\n",
        "  gt_list = gt_list + Ygt"
      ]
    },
    {
      "cell_type": "code",
      "execution_count": null,
      "metadata": {
        "id": "NbyUTzD6nnst"
      },
      "outputs": [],
      "source": [
        "from sklearn.metrics import confusion_matrix as confusion\n",
        "\n",
        "matr = confusion(Ygt, Ypred)"
      ]
    },
    {
      "cell_type": "code",
      "execution_count": null,
      "metadata": {
        "id": "yLktqFTCmszX"
      },
      "outputs": [],
      "source": [
        "whole_matrix = np.zeros(matr_list[0].shape)#, dtype=np.int16)\n",
        "\n",
        "for number in range(len(matr_list)):\n",
        "  for i in range(whole_matrix.shape[0]):\n",
        "    for j in range(whole_matrix.shape[1]):\n",
        "      whole_matrix[i,j] = whole_matrix[i,j] + matr_list[number][i,j]\n",
        "    "
      ]
    },
    {
      "cell_type": "code",
      "execution_count": null,
      "metadata": {
        "id": "FLDWg9l-r7UF"
      },
      "outputs": [],
      "source": [
        "norm_matrix = np.zeros(whole_matrix.shape)\n",
        "\n",
        "for i in range(whole_matrix.shape[0]):\n",
        "  for j in range(whole_matrix.shape[1]):\n",
        "    norm_matrix[i,j] = whole_matrix[i,j]/sum(whole_matrix[i,:])\n"
      ]
    },
    {
      "cell_type": "markdown",
      "source": [
        "*Ausgabe der Confusionmatrix und den endgültigen ergebnissen*"
      ],
      "metadata": {
        "id": "3nI01L-wv-NB"
      }
    },
    {
      "cell_type": "code",
      "execution_count": null,
      "metadata": {
        "id": "qmKzPd0TrGYh"
      },
      "outputs": [],
      "source": [
        "import numpy as np\n",
        "from sklearn.metrics import ConfusionMatrixDisplay, confusion_matrix\n",
        "import matplotlib.pyplot as plt\n",
        "\n",
        "cm = whole_matrix#confusion_matrix(np.arange(14), np.arange(14))\n",
        "cmp = ConfusionMatrixDisplay(cm)#, display_labels=np.arange(14))\n",
        "fig, ax = plt.subplots(figsize=(10,10))\n",
        "cmp.plot(ax=ax)\n",
        "\n",
        "\n",
        "cm = norm_matrix#confusion_matrix(np.arange(14), np.arange(14))\n",
        "cmp = ConfusionMatrixDisplay(cm)#, display_labels=np.arange(14))\n",
        "fig, ax = plt.subplots(figsize=(10,10))\n",
        "cmp.plot(ax=ax)"
      ]
    },
    {
      "cell_type": "code",
      "execution_count": null,
      "metadata": {
        "id": "77FZOH5iBLte"
      },
      "outputs": [],
      "source": [
        "from sklearn.metrics import accuracy_score, average_precision_score, f1_score, precision_score, recall_score\n",
        "\n",
        "accuracy = accuracy_score(gt_list, pred_list)\n",
        "\n",
        "macrof1 = f1_score(gt_list, pred_list, average = 'macro')\n",
        "uf1 = f1_score(gt_list, pred_list, average = None)"
      ]
    },
    {
      "cell_type": "code",
      "execution_count": null,
      "metadata": {
        "id": "-MzdObuvtKZ1"
      },
      "outputs": [],
      "source": [
        "print(accuracy)\n",
        "print(macrof1)\n",
        "print(uf1)\n"
      ]
    }
  ],
  "metadata": {
    "colab": {
      "collapsed_sections": [],
      "name": "open world.ipynb",
      "provenance": []
    },
    "kernelspec": {
      "display_name": "Python 3",
      "name": "python3"
    },
    "language_info": {
      "name": "python"
    }
  },
  "nbformat": 4,
  "nbformat_minor": 0
}