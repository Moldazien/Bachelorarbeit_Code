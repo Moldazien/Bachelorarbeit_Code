{
  "nbformat": 4,
  "nbformat_minor": 0,
  "metadata": {
    "colab": {
      "name": "mask.ipynb",
      "provenance": [],
      "collapsed_sections": []
    },
    "kernelspec": {
      "name": "python3",
      "display_name": "Python 3"
    },
    "language_info": {
      "name": "python"
    },
    "accelerator": "GPU"
  },
  "cells": [
    {
      "cell_type": "markdown",
      "source": [
        "notebook um CNN zu definieren und mit attentionmaps von DINO zu trainieren und zu testen (teilweise auch evaluieren)"
      ],
      "metadata": {
        "id": "D9ZKRa7p-2pv"
      }
    },
    {
      "cell_type": "code",
      "metadata": {
        "id": "KgL915d4uAab"
      },
      "source": [
        "from google.colab import drive\n",
        "drive.mount('/content/gdrive')"
      ],
      "execution_count": null,
      "outputs": []
    },
    {
      "cell_type": "code",
      "metadata": {
        "id": "9HUz2IqPtfLz"
      },
      "source": [
        "!git clone https://github.com/cocodataset/cocoapi\n",
        "\n",
        "!cd /content/cocoapi/PythonAPI && make"
      ],
      "execution_count": null,
      "outputs": []
    },
    {
      "cell_type": "code",
      "metadata": {
        "id": "jbTFt2YihL9B"
      },
      "source": [
        " !pip install timm\n",
        " \n",
        " !git clone https://github.com/Moldazien/BA.git"
      ],
      "execution_count": null,
      "outputs": []
    },
    {
      "cell_type": "code",
      "metadata": {
        "id": "jyfQxEwgMg8R"
      },
      "source": [
        "import os\n",
        "os.chdir('/content/BA')"
      ],
      "execution_count": null,
      "outputs": []
    },
    {
      "cell_type": "code",
      "metadata": {
        "id": "4No_m7wkJtI2"
      },
      "source": [
        "import os\n",
        "import sys\n",
        "import argparse\n",
        "import cv2\n",
        "import random\n",
        "import colorsys\n",
        "import requests\n",
        "from io import BytesIO\n",
        "\n",
        "import skimage.io\n",
        "import matplotlib.pyplot as plt\n",
        "from matplotlib.patches import Polygon\n",
        "import torch\n",
        "import torch.nn as nn\n",
        "import torchvision\n",
        "from torchvision import transforms as pth_transforms\n",
        "import numpy as np\n",
        "from PIL import Image\n",
        "\n",
        "import utils\n",
        "import vision_transformer as vits\n",
        "\n",
        "from pycocotools.coco import COCO"
      ],
      "execution_count": null,
      "outputs": []
    },
    {
      "cell_type": "code",
      "metadata": {
        "id": "kbR6SMssJ3Yw"
      },
      "source": [
        "arch = 'vit_base' #'vit_small''vit_base'\n",
        "patch_size = 8\n",
        "output_dir = '/content/gdrive/MyDrive/Testing/first_test_dino'\n",
        "device = torch.device(\"cuda\") if torch.cuda.is_available() else torch.device(\"cpu\")"
      ],
      "execution_count": null,
      "outputs": []
    },
    {
      "cell_type": "code",
      "metadata": {
        "id": "E-aEiKdpeBZ2"
      },
      "source": [
        "import numpy as np\n",
        "\n",
        "def crop_fkt(bbox, area, percentile, width, height):\n",
        "  width = width\n",
        "  height = height\n",
        "  width_edge = bbox[2]*percentile\n",
        "  height_edge = bbox[3]*percentile\n",
        "  edge = (width_edge + height_edge)\n",
        "  tx = max(bbox[0]-edge, 0)\n",
        "  ty = max(bbox[1]-edge, 0)\n",
        "  bx = min(bbox[0]+bbox[2]+edge, width)\n",
        "  by = min(bbox[1]+bbox[3]+edge, height)\n",
        "  area = 80000\n",
        "  wid = bx - tx\n",
        "  hei = by - ty\n",
        "  p = np.sqrt(area/(wid*hei))\n",
        "  imagewidth = int(wid*p) - (int(wid*p)%8)\n",
        "  imageheight = int(hei*p) - (int(hei*p)%8)\n",
        "  img_size = (imageheight, imagewidth)\n",
        "  return (tx, ty, bx, by), img_size"
      ],
      "execution_count": null,
      "outputs": []
    },
    {
      "cell_type": "code",
      "metadata": {
        "id": "X4Uw4Q7zJgED"
      },
      "source": [
        "def gt_tensors(attentions, maskimg, bbox, width, height):\n",
        "  percentile = 0 \n",
        "  patch_size = 8\n",
        "  image_size = (480, 480)\n",
        "  area = 60000\n",
        "\n",
        "  box, img_size = crop_fkt(bbox, area, percentile, width, height)\n",
        "  crop_mask = maskimg.crop(box=box)\n",
        "  mask = np.asarray(crop_mask)\n",
        "  mask = torch.tensor(mask)\n",
        "  mask = mask.reshape(1, mask.shape[0], mask.shape[1]).float()\n",
        "  img_size = (285, 285)\n",
        "  transforms = pth_transforms.Compose([\n",
        "                                      pth_transforms.Resize(img_size, interpolation = InterpolationMode('nearest')),\n",
        "                                     ])\n",
        "  attentions = transforms(attentions)\n",
        "  mask = transforms(mask)\n",
        "  return attentions, mask"
      ],
      "execution_count": null,
      "outputs": []
    },
    {
      "cell_type": "markdown",
      "metadata": {
        "id": "rVZpKj3i_j4B"
      },
      "source": [
        "# custom dataset"
      ]
    },
    {
      "cell_type": "code",
      "metadata": {
        "id": "hp1-15qH_jUY"
      },
      "source": [
        "import os\n",
        "from torchvision.io import read_image\n",
        "from torch.utils.data import Dataset, DataLoader\n",
        "from torchvision.transforms.functional import InterpolationMode\n",
        "\n",
        "class NACTI_seg(Dataset):\n",
        "  def __init__(self, annotations_file, dataset_dir, flip):\n",
        "    self.annotations_file = annotations_file\n",
        "    self.coco = COCO(annotations_file) \n",
        "    self.flip = flip\n",
        "    self.dataset = dataset_dir\n",
        "    self.img_ids = self.coco.getImgIds()\n",
        "    self.ann_ids = self.coco.getAnnIds()\n",
        "\n",
        "  def __len__(self):\n",
        "    return len(self.ann_ids)\n",
        "\n",
        "  def __getitem__(self, idx):\n",
        "    ann_id = self.ann_ids[idx]\n",
        "    ann = self.coco.loadAnns([ann_id])\n",
        "    img_id = ann[0]['image_id']\n",
        "    img = self.coco.loadImgs([img_id])\n",
        "\n",
        "    img_path = self.dataset + '/images/' + img[0]['file_name']\n",
        "    image = None\n",
        "    mask = None\n",
        "    bbox = None    \n",
        "    width = img[0]['width']\n",
        "    height = img[0]['height']\n",
        "\n",
        "    attentions_path = self.dataset + '/tensors/' + str(ann_id) + '_attention.pt'\n",
        "    attentions = torch.load(attentions_path)\n",
        "    mask = self.coco.annToMask(ann[0]) \n",
        "    bbox = ann[0]['bbox']\n",
        "\n",
        "    maskImg = Image.fromarray(mask)\n",
        "    attentions, mask = gt_tensors(attentions, maskImg, bbox, width, height)\n",
        "    attentions = attentions.to(device)\n",
        "    mask = mask.to(device)\n",
        "\n",
        "    if self.flip: #bilder horizontal flippen um daten zu augmentieren\n",
        "      attentions = pth_transforms.functional.hflip(attentions)\n",
        "      mask = pth_transforms.functional.hflip(mask)\n",
        "    return attentions, mask, ann[0]"
      ],
      "execution_count": null,
      "outputs": []
    },
    {
      "cell_type": "code",
      "source": [
        "class ConcatSet(Dataset):\n",
        "  def __init__(self, dataset1, dataset2):\n",
        "    self.dataset1 = dataset1\n",
        "    self.dataset2 = dataset2\n",
        "    self.len1 = dataset1.__len__()\n",
        "    self.len2 = dataset2.__len__()\n",
        "\n",
        "  def __len__(self):\n",
        "    return (self.len1 + self.len2)\n",
        "\n",
        "  def __getitem__(self, idx):\n",
        "    attentions = None\n",
        "    mask = None\n",
        "    if idx < self.len1:\n",
        "      attentions, mask, ann = self.dataset1.__getitem__(idx)\n",
        "    elif idx >= self.len1:\n",
        "      attentions, mask, ann = self.dataset2.__getitem__(idx-self.len1)\n",
        "    return attentions, mask"
      ],
      "metadata": {
        "id": "t6wb4Q_Ct_6V"
      },
      "execution_count": null,
      "outputs": []
    },
    {
      "cell_type": "code",
      "source": [
        "#trainset1 = NACTI_seg('PATH_TO_ANNOTATION', 'PATH_TO_IMAGES', True) #datensatz mit geflippten bildern und masken\n",
        "#trainset2 = NACTI_seg('PATH_TO_ANNOTATION', 'PATH_TO_IMAGES', False) #datensatz mit normalen bildern mit masken\n",
        "\n",
        "#trainset =  ConcatSet(trainset1, trainset2)#datensätze zu einem zusammenfügen"
      ],
      "metadata": {
        "id": "3Eu5rw_YvN99"
      },
      "execution_count": null,
      "outputs": []
    },
    {
      "cell_type": "markdown",
      "metadata": {
        "id": "6BiENw9Q_mjf"
      },
      "source": [
        "Netzwerke, fehlende schichten einfügen"
      ]
    },
    {
      "cell_type": "code",
      "metadata": {
        "id": "reJL_iSwafnY"
      },
      "source": [
        "import torch\n",
        "import torch.nn as nn\n",
        "import torch.nn.functional as F"
      ],
      "execution_count": null,
      "outputs": []
    },
    {
      "cell_type": "code",
      "metadata": {
        "id": "vqilvCyif8-O"
      },
      "source": [
        "class SimpleCNN(nn.Module):\n",
        "\n",
        "    def __init__(self):\n",
        "      super(SimpleCNN, self).__init__()\n",
        "\n",
        "      self.conv1 = nn.Conv2d(in_channels=12, out_channels=12, kernel_size=3, stride=1, padding=1, padding_mode='reflect')\n",
        "      #self.conv11 = nn.Conv2d(in_channels=12, out_channels=12, kernel_size=3, stride=1, padding=1, padding_mode='reflect')\n",
        "      self.conv2 = nn.Conv2d(in_channels=12, out_channels=12, kernel_size=3, stride=1, padding=1, padding_mode='reflect')\n",
        "      self.conv3 = nn.Conv2d(in_channels=12, out_channels=12, kernel_size=3, stride=1, padding=1, padding_mode='reflect')\n",
        "      self.conv4 = nn.Conv2d(in_channels=12, out_channels=1, kernel_size=1, stride=1, padding=0, padding_mode='reflect')\n",
        "\n",
        "\n",
        "    def forward(self, x):\n",
        "      x = self.conv1(x)\n",
        "      x = F.relu(x)\n",
        "      #x = F.relu(self.conv11(x))\n",
        "      x = self.conv2(x)\n",
        "      x = F.relu(x)\n",
        "      x = self.conv3(x)\n",
        "      x = F.relu(x)\n",
        "      x = self.conv4(x)\n",
        "      return x"
      ],
      "execution_count": null,
      "outputs": []
    },
    {
      "cell_type": "code",
      "metadata": {
        "id": "PoCJDtmDySrO"
      },
      "source": [
        "class UCNN(nn.Module):\n",
        "\n",
        "    def __init__(self):\n",
        "      super(UCNN, self).__init__()\n",
        "\n",
        "      self.conv1 = nn.Conv2d(in_channels=12, out_channels=12, kernel_size=3, stride=1, padding=1, padding_mode='reflect')\n",
        "      self.conv2 = nn.Conv2d(in_channels=12, out_channels=12, kernel_size=3, stride=1, padding=1, padding_mode='reflect')\n",
        "      self.conv3 = nn.Conv2d(in_channels=12, out_channels=12, kernel_size=3, stride=1, padding=1, padding_mode='reflect')\n",
        "      self.conv4 = nn.Conv2d(in_channels=12, out_channels=12, kernel_size=3, stride=1, padding=1, padding_mode='reflect')\n",
        "      self.conv5 = nn.Conv2d(in_channels=12, out_channels=12, kernel_size=3, stride=1, padding=1, padding_mode='reflect')\n",
        "      self.conv6 = nn.Conv2d(in_channels=12, out_channels=12, kernel_size=3, stride=1, padding=1, padding_mode='reflect')\n",
        "      self.conv7 = nn.Conv2d(in_channels=12, out_channels=12, kernel_size=3, stride=1, padding=1, padding_mode='reflect')\n",
        "      self.conv8 = nn.Conv2d(in_channels=12, out_channels=1, kernel_size=3, stride=1, padding=1, padding_mode='reflect')\n",
        "\n",
        "\n",
        "    def forward(self, x):\n",
        "      x = self.conv1(x)\n",
        "      x = F.relu(x)\n",
        "      x = self.conv2(x)\n",
        "      x = F.relu(x)\n",
        "      x = self.conv3(x)\n",
        "      x = F.relu(x)\n",
        "      x = self.conv4(x)\n",
        "      x = F.relu(x)\n",
        "      x = self.conv5(x)\n",
        "      x = F.relu(x)\n",
        "      x = self.conv6(x)\n",
        "      x = F.relu(x)\n",
        "      x = self.conv7(x)\n",
        "      x = F.relu(x)\n",
        "      x = self.conv8(x)\n",
        "      return x"
      ],
      "execution_count": null,
      "outputs": []
    },
    {
      "cell_type": "code",
      "source": [
        "class HugePlus(nn.Module):\n",
        "\n",
        "    def __init__(self):\n",
        "      super(HugePlus, self).__init__()\n",
        "\n",
        "      self.conv1 = nn.Conv2d(in_channels=12, out_channels=12, kernel_size=3, stride=1, padding=1, padding_mode='reflect')\n",
        "      self.conv11 = nn.Conv2d(in_channels=12, out_channels=12, kernel_size=3, stride=1, padding=1, padding_mode='reflect')\n",
        "      self.conv2 = nn.Conv2d(in_channels=12, out_channels=12, kernel_size=3, stride=1, padding=1, padding_mode='reflect')\n",
        "      #self.conv21 = nn.Conv2d(in_channels=12, out_channels=12, kernel_size=3, stride=1, padding=1, padding_mode='reflect')\n",
        "      self.conv3 = nn.Conv2d(in_channels=12, out_channels=12, kernel_size=3, stride=1, padding=1, padding_mode='reflect')\n",
        "      self.conv4 = nn.Conv2d(in_channels=12, out_channels=12, kernel_size=3, stride=1, padding=1, padding_mode='reflect')\n",
        "      #self.conv41 = nn.Conv2d(in_channels=12, out_channels=12, kernel_size=3, stride=1, padding=1, padding_mode='reflect')\n",
        "      self.conv42 = nn.Conv2d(in_channels=12, out_channels=12, kernel_size=3, stride=1, padding=1, padding_mode='reflect')\n",
        "      self.conv5 = nn.Conv2d(in_channels=12, out_channels=12, kernel_size=3, stride=1, padding=1, padding_mode='reflect')\n",
        "      self.conv6 = nn.Conv2d(in_channels=12, out_channels=12, kernel_size=3, stride=1, padding=1, padding_mode='reflect')\n",
        "      self.conv7 = nn.Conv2d(in_channels=12, out_channels=12, kernel_size=3, stride=1, padding=1, padding_mode='reflect')\n",
        "      self.conv8 = nn.Conv2d(in_channels=12, out_channels=1, kernel_size=3, stride=1, padding=1, padding_mode='reflect')\n",
        "\n",
        "\n",
        "    def forward(self, x):\n",
        "      x = self.conv1(x)\n",
        "      x = F.relu(x)\n",
        "      x = self.conv11(x)\n",
        "      x = F.relu(x)\n",
        "      x = self.conv2(x)\n",
        "      x = F.relu(x)\n",
        "      #x = self.conv21(x)\n",
        "      #x = F.relu(x)\n",
        "      x = self.conv3(x)\n",
        "      x = F.relu(x)\n",
        "      x = self.conv4(x)\n",
        "      x = F.relu(x)\n",
        "      #x = self.conv41(x)\n",
        "      #x = F.relu(x)\n",
        "      x = self.conv42(x)\n",
        "      x = F.relu(x)\n",
        "      x = self.conv5(x)\n",
        "      x = F.relu(x)\n",
        "      x = self.conv6(x)\n",
        "      x = F.relu(x)\n",
        "      x = self.conv7(x)\n",
        "      x = F.relu(x)\n",
        "      x = self.conv8(x)\n",
        "      return x"
      ],
      "metadata": {
        "id": "6cva2tNbiPrO"
      },
      "execution_count": null,
      "outputs": []
    },
    {
      "cell_type": "markdown",
      "metadata": {
        "id": "3IR1lm4lrG8D"
      },
      "source": [
        "# for training"
      ]
    },
    {
      "cell_type": "code",
      "metadata": {
        "id": "XhcsTfeSrXX5"
      },
      "source": [
        "import torch\n",
        "import torchvision\n",
        "import torchvision.transforms as transforms"
      ],
      "execution_count": null,
      "outputs": []
    },
    {
      "cell_type": "code",
      "metadata": {
        "id": "OL-kVTF4rYAn"
      },
      "source": [
        "trainset1 = NACTI_seg('PATH_TO_ANNOTATION', 'PATH_TO_IMAGES', True) #datensatz mit geflippten bildern und masken\n",
        "trainset2 = NACTI_seg('PATH_TO_ANNOTATION', 'PATH_TO_IMAGES', False) #datensatz mit normalen bildern mit masken\n",
        "trainset =  ConcatSet(trainset1, trainset2)\n",
        "\n",
        "batch_size = 8 # 4 # 16 # 32\n",
        "\n",
        "trainloader = torch.utils.data.DataLoader(trainset, batch_size=batch_size,\n",
        "                                          shuffle=True, num_workers=0)"
      ],
      "execution_count": null,
      "outputs": []
    },
    {
      "cell_type": "code",
      "metadata": {
        "id": "zyH6YeIKrgRb"
      },
      "source": [
        "net = UCNN()\n",
        "\n",
        "net.to(device)\n",
        "\n",
        "#PATH = 'MODEL_PATH'\n",
        "#net.load_state_dict(torch.load(PATH))\n",
        "net.train()"
      ],
      "execution_count": null,
      "outputs": []
    },
    {
      "cell_type": "code",
      "metadata": {
        "id": "uX45XPiYq8bA"
      },
      "source": [
        "import torch.optim as optim\n",
        "\n",
        "criterion = nn.BCEWithLogitsLoss(reduction='mean')\n",
        "optimizer = optim.Adam(net.parameters(), lr = 0.0001)  #für verschiedene lerningrates neues training starten"
      ],
      "execution_count": null,
      "outputs": []
    },
    {
      "cell_type": "code",
      "metadata": {
        "id": "RVOZvCQlrKBO"
      },
      "source": [
        "loss_graph = []\n",
        "\n",
        "for epoch in range(30):  # loop over the dataset multiple times\n",
        "\n",
        "    running_loss = 0.0\n",
        "    for i, data in enumerate(trainloader, 0):\n",
        "        inputs, mask = data\n",
        "        optimizer.zero_grad()\n",
        "        outputs = net(inputs)\n",
        "\n",
        "        loss = criterion(outputs, mask)\n",
        "        loss.backward()\n",
        "        optimizer.step()\n",
        "\n",
        "        running_loss += loss.item()\n",
        "        \n",
        "        output_value = 50\n",
        "        if i % output_value == output_value - 1:    # print every 2000 mini-batches\n",
        "          print('[%d, %5d] loss: %.20f' %\n",
        "              (epoch + 1, i + 1, running_loss / output_value))\n",
        "          \n",
        "          loss_graph.append(running_loss / output_value)\n",
        "\n",
        "          running_loss = 0.0\n",
        "          #PATH = '/content/gdrive/MyDrive/models/channelislands/CNN' + str(i) + 'modelCNN.pth' #entfernt weil es sonst zu langsam ist\n",
        "          #torch.save(net.state_dict(), PATH)\n",
        "\n",
        "print('Finished Training')\n",
        "\n",
        "PATH = 'MODEL_SAVE'\n",
        "torch.save(net.state_dict(), PATH)"
      ],
      "execution_count": null,
      "outputs": []
    },
    {
      "cell_type": "code",
      "metadata": {
        "id": "YHU8KdYTlmLX"
      },
      "source": [
        "import matplotlib.pyplot as plt #loss printen\n",
        "y_values = np.asarray(loss_graph)\n",
        "x_values = np.arange(0,len(y_values),1)\n",
        "\n",
        "plt.plot(x_values, y_values)\n",
        "plt.ylabel('Loss')\n",
        "\n",
        "plt.show()"
      ],
      "execution_count": null,
      "outputs": []
    },
    {
      "cell_type": "code",
      "source": [
        "drive.flush_and_unmount()\n",
        "drive.mount('/content/gdrive')"
      ],
      "metadata": {
        "id": "_nGKba3o_RAr"
      },
      "execution_count": null,
      "outputs": []
    },
    {
      "cell_type": "markdown",
      "metadata": {
        "id": "zMixpvF6WwJT"
      },
      "source": [
        "# testing"
      ]
    },
    {
      "cell_type": "code",
      "source": [
        "from __future__ import division\n",
        "from __future__ import print_function\n",
        "\n",
        "import os\n",
        "import cv2\n",
        "import json, yaml\n",
        "import numpy as np\n",
        "from PIL import Image\n",
        "from collections import OrderedDict\n",
        "from pycocotools import mask as cocomask\n",
        "from pycocotools import coco as cocoapi\n",
        "\n",
        "def __get_annotation__(mask, image=None): #übersetzten einer binären maske in coco format um in json speichern zu können\n",
        "  labelMask = np.expand_dims(mask, axis=2)\n",
        "  labelMask = labelMask.astype('uint8')\n",
        "  labelMask = np.asfortranarray(labelMask)\n",
        "  Rs = cocomask.encode(labelMask)\n",
        "  assert len(Rs) == 1\n",
        "  Rs = Rs[0]\n",
        "  area = cocomask.area(Rs)\n",
        "  return Rs, area "
      ],
      "metadata": {
        "id": "raK2JEfaAdw5"
      },
      "execution_count": null,
      "outputs": []
    },
    {
      "cell_type": "code",
      "source": [
        "import os\n",
        "from torchvision.io import read_image\n",
        "from torch.utils.data import Dataset, DataLoader\n",
        "from torchvision.transforms.functional import InterpolationMode\n",
        "\n",
        "class TestSet(Dataset):\n",
        "  def __init__(self, annotations_file, dataset_dir, flip):\n",
        "    self.annotations_file = annotations_file\n",
        "    self.coco = COCO(annotations_file)  #for fast reading\n",
        "    self.flip = flip\n",
        "    self.dataset = dataset_dir\n",
        "    self.img_ids = self.coco.getImgIds()\n",
        "    self.ann_ids = self.coco.getAnnIds()\n",
        "\n",
        "  def __len__(self):\n",
        "    return len(self.ann_ids)\n",
        "\n",
        "  def __getitem__(self, idx):\n",
        "    ann_id = self.ann_ids[idx]\n",
        "    ann = self.coco.loadAnns([ann_id])\n",
        "    img_id = ann[0]['image_id']\n",
        "    img = self.coco.loadImgs([img_id])\n",
        "    img_path = self.dataset + '/images/' + img[0]['file_name']\n",
        "    image = None\n",
        "    mask = None\n",
        "    bbox = None#\n",
        "    \n",
        "    width = img[0]['width']\n",
        "    height = img[0]['height']\n",
        "    attentions_path = self.dataset + '/tensors/' + str(ann_id) + '_attention.pt'\n",
        "    attentions = torch.load(attentions_path)\n",
        "    mask = self.coco.annToMask(ann[0])\n",
        "    #mask = np.zeros((3000,3000))  #falls keine maske vorhanden \n",
        "    bbox = ann[0]['bbox']\n",
        "    maskImg = Image.fromarray(mask)\n",
        "    attentions = attentions.to(device)\n",
        "    return attentions, mask, ann[0], bbox, (height, width)"
      ],
      "metadata": {
        "id": "zuJVHjb54mqa"
      },
      "execution_count": null,
      "outputs": []
    },
    {
      "cell_type": "code",
      "metadata": {
        "id": "zB0IJOIQf64i"
      },
      "source": [
        "import torch\n",
        "import torchvision\n",
        "import torchvision.transforms as transforms\n",
        "\n",
        "testset = TestSet('/content/gdrive/MyDrive/Datasets/channelisland_test/annotations/annotations.json', '/content/gdrive/MyDrive/Datasets/channelisland_test', False) "
      ],
      "execution_count": null,
      "outputs": []
    },
    {
      "cell_type": "code",
      "metadata": {
        "id": "wctY50rzal2c"
      },
      "source": [
        "PATH = 'MODEL_PATH.pth'\n",
        "\n",
        "net = UCNN()\n",
        "net.to(device)\n",
        "net.load_state_dict(torch.load(PATH))\n",
        "net.eval()"
      ],
      "execution_count": null,
      "outputs": []
    },
    {
      "cell_type": "code",
      "source": [
        "test_ids = np.arange(0,testset.__len__(),1)\n",
        "\n",
        "# for per class evaluation\n",
        "#Ygt = []\n",
        "#Ypred = []\n",
        "#foxgt = []\n",
        "#fox = []\n",
        "#skunkgt = []\n",
        "#skunk = []\n",
        "#rodentgt = []\n",
        "#rodent = []\n",
        "#birdgt = []\n",
        "#bird = []\n",
        "\n",
        "\n",
        "pred_anns = []\n",
        "\n",
        "net.eval()\n",
        "\n",
        "for i in test_ids:\n",
        "  print(str(i) + ' von ' + str(len(test_ids)))\n",
        "  attentions, gtmask, annotation, bbox, dimensions = testset.__getitem__(i)\n",
        "  Ygt.append(gtmask)\n",
        "  output = net(attentions.reshape(1,12,attentions.shape[1],attentions.shape[2]))\n",
        "  transforms = pth_transforms.Compose([\n",
        "                                      pth_transforms.Resize((int(bbox[3]), int(bbox[2])), interpolation = InterpolationMode('nearest'))\n",
        "                                     ])\n",
        "  output = transforms(output)\n",
        "  output = output.reshape(output.shape[2],output.shape[3])\n",
        "  m = nn.Sigmoid()\n",
        "\n",
        "  output = output.detach()\n",
        "  output = output.to('cpu')\n",
        "  output = np.asarray(output, dtype=np.float32)\n",
        "\n",
        "  mask_part = np.copy(output)\n",
        "  mask_part[mask_part >= 0.5] = 1\n",
        "  mask_part[mask_part < 0.5] = 0\n",
        "  pred_mask = np.zeros(dimensions, dtype=np.int8)\n",
        "\n",
        "  for i in range(mask_part.shape[0]):\n",
        "    for j in range(mask_part.shape[1]):\n",
        "      pred_mask[int(bbox[1]) + i, int(bbox[0]) + j] = mask_part[i, j]\n",
        "\n",
        "  seg, area = __get_annotation__(pred_mask)\n",
        "\n",
        "  annotation['pred_seg'] = seg\n",
        "  annotation['pred_seg']['counts'] = annotation['pred_seg']['counts'].decode()\n",
        "  annotation['pred_area'] = int(area)\n",
        "\n",
        "  pred_anns.append(annotation)\n",
        "  Ypred.append(pred_mask)\n",
        "  ############################### für meanIoU pro klasse\n",
        "  if annotation['category_id'] == 1:\n",
        "    foxgt.append(gtmask)\n",
        "    fox.append(pred_mask)\n",
        "  if annotation['category_id'] == 2:\n",
        "    skunkgt.append(gtmask)\n",
        "    skunk.append(pred_mask)\n",
        "  if annotation['category_id'] == 3:\n",
        "    rodentgt.append(gtmask)\n",
        "    rodent.append(pred_mask)\n",
        "  if annotation['category_id'] == 4:\n",
        "    birdgt.append(gtmask)\n",
        "    bird.append(pred_mask)"
      ],
      "metadata": {
        "id": "Ulq-In7x-nn2"
      },
      "execution_count": null,
      "outputs": []
    },
    {
      "cell_type": "code",
      "source": [
        "import matplotlib.pyplot as plt #visueller vergleich der berechneten masken mit ground truth masken\n",
        "import matplotlib.image as mpimg\n",
        "\n",
        "for i in range(len(Ypred)-220):\n",
        "  gt_mask = np.copy(Ygt[i])\n",
        "  pred_mask = np.copy(Ypred[i])\n",
        "\n",
        "  gt_mask[gt_mask == 1] = 255\n",
        "  pred_mask[pred_mask == 1] = 255\n",
        "\n",
        "  imgplot = plt.imshow(gt_mask)\n",
        "  plt.show()\n",
        "  imgplot2  = plt.imshow(pred_mask)\n",
        "  plt.show()"
      ],
      "metadata": {
        "id": "cYdrAR-xEplp"
      },
      "execution_count": null,
      "outputs": []
    },
    {
      "cell_type": "code",
      "source": [
        "#berechnen der metriken pro maske\n",
        "from sklearn.metrics import jaccard_score as IoU\n",
        "from sklearn.metrics import accuracy_score\n",
        "\n",
        "iouscores = []\n",
        "accscores = []\n",
        "\n",
        "tempgt = birdgt #rodentgt #skunkgt #foxgt #Ygt\n",
        "temp = bird #rodent #skunk #fox #Ypred\n",
        "\n",
        "for i in range(len(tempgt)):\n",
        "  gt = np.copy(tempgt[i])\n",
        "  pred = np.copy(temp[i])\n",
        "\n",
        "  iou = IoU(gt, pred, average='micro')\n",
        "\n",
        "  acc = accuracy_score(gt, pred)\n",
        "\n",
        "  accscores.append(acc)\n",
        "  iouscores.append(iou)"
      ],
      "metadata": {
        "id": "gJT96RG5DHSo"
      },
      "execution_count": null,
      "outputs": []
    },
    {
      "cell_type": "code",
      "source": [
        "summ = 0\n",
        "\n",
        "for i in range(len(iouscores)):\n",
        "  summ = summ + iouscores[i]\n",
        "print(summ)\n",
        "summ = summ/len(iouscores)\n",
        "\n",
        "print(summ) #meanIoU"
      ],
      "metadata": {
        "id": "ZAYdYAjjSTvl"
      },
      "execution_count": null,
      "outputs": []
    },
    {
      "cell_type": "code",
      "source": [
        "summ = 0\n",
        "\n",
        "for i in range(len(accscores)):\n",
        "  summ = summ + accscores[i]\n",
        "print(summ)\n",
        "summ = summ/len(accscores)\n",
        "\n",
        "print(summ) meanPixelaccuracy"
      ],
      "metadata": {
        "id": "jo9bU2IRUbRU"
      },
      "execution_count": null,
      "outputs": []
    },
    {
      "cell_type": "code",
      "source": [
        "import json \n",
        "\n",
        "output_file = 'RESULT_FILE.json'\n",
        "\n",
        "with open(output_file, 'w') as file:\n",
        "  json.dump(pred_anns, file, indent = 4, sort_keys=False)"
      ],
      "metadata": {
        "id": "084QRsA6ZN8F"
      },
      "execution_count": null,
      "outputs": []
    },
    {
      "cell_type": "markdown",
      "source": [
        "** weitere ausgaben zum vergleichen der verschiedenen ansichten (Attention, ausgabeschicht des CNN, Maske,...)**"
      ],
      "metadata": {
        "id": "ZNF4aPRb--XM"
      }
    },
    {
      "cell_type": "code",
      "metadata": {
        "id": "zMpk1W9AWvpy"
      },
      "source": [
        "attentions, org_mask = testset.__getitem__(23)\n",
        "attentions = attentions.reshape(-1,attentions.shape[0],attentions.shape[1],attentions.shape[2])\n",
        "\n",
        "print(attentions.shape)\n",
        "\n",
        "output = net(attentions)\n",
        "\n",
        "output = output.reshape(output.shape[2],output.shape[3])\n",
        "\n",
        "m = nn.Sigmoid()\n",
        "\n",
        "output = m(output)\n",
        "\n",
        "org_mas = org_mask.detach().cpu()\n",
        "org_mas = np.asarray(org_mas)\n",
        "mask = output.detach().cpu()\n",
        "\n",
        "\n",
        "import matplotlib.pyplot as plt\n",
        "import matplotlib.image as mpimg\n",
        "\n",
        "trans = pth_transforms.ToPILImage()\n",
        "img = trans(mask)\n",
        "\n",
        "\n",
        "org_mask1 = org_mask.reshape(org_mask.shape[1], org_mask.shape[2])\n",
        "org_mask1[org_mask1 == 1] = 255\n",
        "org_mask1 = org_mask1.cpu()\n",
        "org_mask1 = np.asarray(org_mask1)\n",
        "org = Image.fromarray(org_mask1)\n",
        "\n",
        "imgplot2  = plt.imshow(org)\n",
        "plt.show()\n",
        "imgplot = plt.imshow(img)\n",
        "plt.show()\n",
        "\n",
        "test = output.detach().cpu()\n",
        "mask = np.asarray(test)\n",
        "\n",
        "import matplotlib.pyplot as plt\n",
        "import matplotlib.image as mpimg\n",
        "\n",
        "\n",
        "mask[mask >= 0.8] = 255\n",
        "mask[mask < 0.8] = 0\n",
        "\n",
        "img = Image.fromarray(mask)\n",
        "\n",
        "org_mask1 = org_mask.reshape(org_mask.shape[1], org_mask.shape[2])\n",
        "\n",
        "org_mask1[org_mask1 == 1] = 255\n",
        "\n",
        "org_mask1 = org_mask1.cpu()\n",
        "\n",
        "org_mask1 = np.asarray(org_mask1)\n",
        "\n",
        "org = Image.fromarray(org_mask1)\n",
        "\n",
        "imgplot = plt.imshow(img)\n",
        "plt.show()\n",
        "imgplot2  = plt.imshow(org)\n",
        "plt.show()"
      ],
      "execution_count": null,
      "outputs": []
    },
    {
      "cell_type": "code",
      "metadata": {
        "id": "ck-nsvqwYu8d"
      },
      "source": [
        "mask = np.asarray(test)"
      ],
      "execution_count": null,
      "outputs": []
    },
    {
      "cell_type": "code",
      "metadata": {
        "colab": {
          "base_uri": "https://localhost:8080/",
          "height": 521
        },
        "id": "AI1IRs38cMsC",
        "outputId": "39d077a6-9cbe-4ca0-d053-c5373c216eab"
      },
      "source": [
        "import matplotlib.pyplot as plt\n",
        "import matplotlib.image as mpimg\n",
        "\n",
        "mask[mask >= 0.8] = 255\n",
        "mask[mask < 0.8] = 0\n",
        "\n",
        "img = Image.fromarray(mask)\n",
        "\n",
        "org_mask1 = org_mask.reshape(org_mask.shape[1], org_mask.shape[2])\n",
        "\n",
        "org_mask1[org_mask1 == 1] = 255\n",
        "\n",
        "org_mask1 = org_mask1.cpu()\n",
        "\n",
        "org_mask1 = np.asarray(org_mask1)\n",
        "\n",
        "org = Image.fromarray(org_mask1)\n",
        "\n",
        "imgplot = plt.imshow(img)\n",
        "plt.show()\n",
        "imgplot2  = plt.imshow(org)\n",
        "plt.show()"
      ],
      "execution_count": null,
      "outputs": [
        {
          "output_type": "display_data",
          "data": {
            "image/png": "[encoded data removed]",
            "text/plain": [
              "<Figure size 432x288 with 1 Axes>"
            ]
          },
          "metadata": {
            "needs_background": "light"
          }
        },
        {
          "output_type": "display_data",
          "data": {
            "image/png": "[encoded data removed]",
            "text/plain": [
              "<Figure size 432x288 with 1 Axes>"
            ]
          },
          "metadata": {
            "needs_background": "light"
          }
        }
      ]
    }
  ]
}