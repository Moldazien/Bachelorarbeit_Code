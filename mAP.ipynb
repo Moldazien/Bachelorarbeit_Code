{
  "nbformat": 4,
  "nbformat_minor": 0,
  "metadata": {
    "colab": {
      "name": "mAP.ipynb",
      "provenance": [],
      "collapsed_sections": []
    },
    "kernelspec": {
      "name": "python3",
      "display_name": "Python 3"
    },
    "language_info": {
      "name": "python"
    }
  },
  "cells": [
    {
      "cell_type": "markdown",
      "source": [
        "**notebook um aus einzelnen ergebnis json dateien für klassifikation und Maskengenerierung eine ergebnisdatei im coco format zu generieren und diese zu evaluieren mit cocoapi**"
      ],
      "metadata": {
        "id": "tuwRxy7QxVsg"
      }
    },
    {
      "cell_type": "code",
      "execution_count": null,
      "metadata": {
        "colab": {
          "base_uri": "https://localhost:8080/"
        },
        "id": "LEqclu-kdTb0",
        "outputId": "6d4d5210-b71b-4a42-f0b4-fdd8b470e765"
      },
      "outputs": [
        {
          "output_type": "stream",
          "name": "stdout",
          "text": [
            "Mounted at /content/gdrive\n"
          ]
        }
      ],
      "source": [
        "from google.colab import drive\n",
        "drive.mount('/content/gdrive')"
      ]
    },
    {
      "cell_type": "code",
      "source": [
        "!git clone https://github.com/cocodataset/cocoapi\n",
        "\n",
        "!cd /content/cocoapi/PythonAPI && make"
      ],
      "metadata": {
        "id": "gIUyX2POdZnh"
      },
      "execution_count": null,
      "outputs": []
    },
    {
      "cell_type": "code",
      "source": [
        "import os\n",
        "import sys\n",
        "import argparse\n",
        "import cv2\n",
        "import random\n",
        "import colorsys\n",
        "import requests\n",
        "from io import BytesIO\n",
        "\n",
        "import skimage.io\n",
        "from skimage.measure import find_contours\n",
        "import matplotlib.pyplot as plt\n",
        "from matplotlib.patches import Polygon\n",
        "import torch\n",
        "import torch.nn as nn\n",
        "import torchvision\n",
        "from torchvision import transforms as pth_transforms\n",
        "import numpy as np\n",
        "from PIL import Image\n",
        "\n",
        "#import utils\n",
        "#import vision_transformer as vits\n",
        "\n",
        "from pycocotools.coco import COCO\n",
        "import json"
      ],
      "metadata": {
        "id": "PnlZ-yRidiN0"
      },
      "execution_count": null,
      "outputs": []
    },
    {
      "cell_type": "code",
      "source": [
        "org_annotation = 'PATH TO ORIGINAL ANNOTATION FILE'\n",
        "\n",
        "class_annotation_path = 'PATH TO KLASSIFIKATIONSERGEBNISSEN'\n",
        "\n",
        "seg_annotation = 'PATH TO MASKENERGEBNISSEN'"
      ],
      "metadata": {
        "id": "E6-cbG_RdoQQ"
      },
      "execution_count": null,
      "outputs": []
    },
    {
      "cell_type": "code",
      "source": [
        "org_file = COCO(org_annotation)\n",
        "\n",
        "with open(class_annotation_path) as json_file:\n",
        "    class_annotation = json.load(json_file)\n",
        "\n",
        "with open(seg_annotation) as file:\n",
        "  segmentation_file = json.load(file)"
      ],
      "metadata": {
        "id": "hwvji1JYeAkV"
      },
      "execution_count": null,
      "outputs": []
    },
    {
      "cell_type": "code",
      "source": [
        "detections = []\n",
        "\n",
        "for item in class_annotation:\n",
        "  #print(item)\n",
        "  image_id = int(item['image_id'])\n",
        "  #print(image_id)\n",
        "  bbox = item['bbox']\n",
        "  category_id = int(item['mae_pred'])#int(item['category_id'])#   #anpassen zu knn_pred, und mlp_pred\n",
        "  score = item['score']\n",
        "\n",
        "  area_seg = [seg for seg in segmentation_file if seg['image_id'] == image_id]\n",
        "  segmentation = area_seg[0]['pred_seg']\n",
        "\n",
        "  segmentation['counts'] = segmentation['counts']\n",
        "  area = area_seg[0]['pred_area']\n",
        "  \n",
        "  annotation = {}\n",
        "\n",
        "  annotation['image_id'] = image_id\n",
        "  annotation['bbox'] = bbox\n",
        "  annotation['category_id'] = category_id\n",
        "  annotation['score'] = score\n",
        "  annotation['segmentation'] = segmentation\n",
        "\n",
        "\n",
        "  detections.append(annotation)"
      ],
      "metadata": {
        "id": "I5llUK0beuD9"
      },
      "execution_count": null,
      "outputs": []
    },
    {
      "cell_type": "markdown",
      "source": [
        "*speichern der ergebnisjson in coco format*"
      ],
      "metadata": {
        "id": "KaxY4TbhyqYG"
      }
    },
    {
      "cell_type": "code",
      "source": [
        "import json \n",
        "\n",
        "output_file = '/content/detection.json'\n",
        "\n",
        "with open(output_file, 'w') as file:\n",
        "  json.dump(detections, file, indent = 4, sort_keys=False)"
      ],
      "metadata": {
        "id": "zopzklytiVNG"
      },
      "execution_count": null,
      "outputs": []
    },
    {
      "cell_type": "code",
      "source": [
        "import matplotlib.pyplot as plt\n",
        "from pycocotools.coco import COCO\n",
        "from pycocotools.cocoeval import COCOeval\n",
        "import numpy as np\n",
        "import skimage.io as io\n",
        "import pylab"
      ],
      "metadata": {
        "id": "WmLXKBXLt6b5"
      },
      "execution_count": null,
      "outputs": []
    },
    {
      "cell_type": "code",
      "source": [
        "cocoGt = COCO(org_annotation)\n",
        "cocoDt=cocoGt.loadRes('/content/detection.json')"
      ],
      "metadata": {
        "id": "crsJtywPuDZN"
      },
      "execution_count": null,
      "outputs": []
    },
    {
      "cell_type": "code",
      "source": [
        "ann_type = ['segm','bbox']\n",
        "\n",
        "imgIds=sorted(cocoGt.getImgIds())\n",
        "\n",
        "cocoEval = COCOeval(cocoGt, cocoDt, ann_type[0])\n",
        "#cocoEval.params.imgIds  = imgIds\n",
        "#cocoEval.params.useCats = 0\n",
        "#cocoEval.maxDets = [200]\n",
        "#cocoEval.useCats = 1\n",
        "#cocoEval.params.catIds = [4]\n",
        "cocoEval.evaluate()\n",
        "cocoEval.accumulate()\n",
        "cocoEval.summarize()"
      ],
      "metadata": {
        "id": "_Fo9kGEKuVTN"
      },
      "execution_count": null,
      "outputs": []
    }
  ]
}